{
 "cells": [
  {
   "cell_type": "code",
   "execution_count": 1,
   "metadata": {
    "collapsed": true
   },
   "outputs": [],
   "source": [
    "import gzip\n",
    "import json\n",
    "import os\n",
    "\n",
    "from __future__ import print_function, unicode_literals"
   ]
  },
  {
   "cell_type": "code",
   "execution_count": 2,
   "metadata": {
    "collapsed": true
   },
   "outputs": [],
   "source": [
    "catalog_dir = os.path.join('..','catalogs')"
   ]
  },
  {
   "cell_type": "code",
   "execution_count": 3,
   "metadata": {
    "collapsed": true
   },
   "outputs": [],
   "source": [
    "files = os.listdir(catalog_dir)"
   ]
  },
  {
   "cell_type": "code",
   "execution_count": 4,
   "metadata": {
    "collapsed": false
   },
   "outputs": [
    {
     "data": {
      "text/plain": [
       "[u'ecoinvent_3.2_apos_xlsx.json.gz',\n",
       " u'ecoinvent_3.2_consequential_xlsx.json.gz',\n",
       " u'ecoinvent_3.2_cut-off_xlsx.json.gz',\n",
       " u'ecoinvent_3.2_undefined_xlsx.json.gz',\n",
       " u'elcd_3.2.json.gz',\n",
       " u'gabi_2016_all-extensions.json.gz',\n",
       " u'gabi_2016_professional-database-2016.json.gz',\n",
       " u'uslci_ecospold.json.gz']"
      ]
     },
     "execution_count": 4,
     "metadata": {},
     "output_type": "execute_result"
    }
   ],
   "source": [
    "files"
   ]
  },
  {
   "cell_type": "markdown",
   "metadata": {},
   "source": [
    "## Select databases of interest"
   ]
  },
  {
   "cell_type": "code",
   "execution_count": 5,
   "metadata": {
    "collapsed": true
   },
   "outputs": [],
   "source": [
    "my_files = [os.path.join(catalog_dir, files[k]) for k in (3, 4, 6, 5, 7)]  # we love list comprehensions!"
   ]
  },
  {
   "cell_type": "code",
   "execution_count": 6,
   "metadata": {
    "collapsed": false
   },
   "outputs": [
    {
     "data": {
      "text/plain": [
       "[u'..\\\\catalogs\\\\ecoinvent_3.2_undefined_xlsx.json.gz',\n",
       " u'..\\\\catalogs\\\\elcd_3.2.json.gz',\n",
       " u'..\\\\catalogs\\\\gabi_2016_professional-database-2016.json.gz',\n",
       " u'..\\\\catalogs\\\\gabi_2016_all-extensions.json.gz',\n",
       " u'..\\\\catalogs\\\\uslci_ecospold.json.gz']"
      ]
     },
     "execution_count": 6,
     "metadata": {},
     "output_type": "execute_result"
    }
   ],
   "source": [
    "my_files"
   ]
  },
  {
   "cell_type": "markdown",
   "metadata": {},
   "source": [
    "Give the databases short names for reference"
   ]
  },
  {
   "cell_type": "code",
   "execution_count": 7,
   "metadata": {
    "collapsed": true
   },
   "outputs": [],
   "source": [
    "names = ['EI (u)', 'ELCD', 'GaBi-Pro', 'GaBi-Ext', 'US LCI']"
   ]
  },
  {
   "cell_type": "code",
   "execution_count": 8,
   "metadata": {
    "collapsed": true
   },
   "outputs": [],
   "source": [
    "def load_archive(filename):\n",
    "    with gzip.open(filename, 'r') as fp:\n",
    "        J = json.load(fp)\n",
    "\n",
    "    # GaBi datasets are collections of archives, whereas the others are just archives\n",
    "    if 'archives' in J:\n",
    "        return J['archives'][0]\n",
    "    else:\n",
    "        return J\n"
   ]
  },
  {
   "cell_type": "markdown",
   "metadata": {},
   "source": [
    "Load all the archives into a collection called 'C'"
   ]
  },
  {
   "cell_type": "code",
   "execution_count": 9,
   "metadata": {
    "collapsed": false
   },
   "outputs": [],
   "source": [
    "C = [load_archive(fname) for fname in my_files]"
   ]
  },
  {
   "cell_type": "markdown",
   "metadata": {},
   "source": [
    "(should take about 2-5 seconds)"
   ]
  },
  {
   "cell_type": "markdown",
   "metadata": {},
   "source": [
    "## Create geography grid (Table 4 in manuscript)"
   ]
  },
  {
   "cell_type": "code",
   "execution_count": 10,
   "metadata": {
    "collapsed": true
   },
   "outputs": [],
   "source": [
    "geog = []\n",
    "for i, archive in enumerate(C):\n",
    "    for p in archive['processes']:\n",
    "        geog.append({'db': names[i], 'process': p['tags']['Name'], 'geog': p['tags']['SpatialScope']})"
   ]
  },
  {
   "cell_type": "markdown",
   "metadata": {},
   "source": [
    "there should be one entry in `geog` for each process listed in a database - total of around 25,000 processes"
   ]
  },
  {
   "cell_type": "code",
   "execution_count": 12,
   "metadata": {
    "collapsed": false
   },
   "outputs": [
    {
     "data": {
      "text/plain": [
       "25287"
      ]
     },
     "execution_count": 12,
     "metadata": {},
     "output_type": "execute_result"
    }
   ],
   "source": [
    "len(geog)"
   ]
  },
  {
   "cell_type": "markdown",
   "metadata": {},
   "source": [
    "use `pandas` to draw the pivot charts"
   ]
  },
  {
   "cell_type": "code",
   "execution_count": 13,
   "metadata": {
    "collapsed": true
   },
   "outputs": [],
   "source": [
    "import pandas as pd"
   ]
  },
  {
   "cell_type": "code",
   "execution_count": 14,
   "metadata": {
    "collapsed": true
   },
   "outputs": [],
   "source": [
    "P = pd.DataFrame(geog).pivot_table(index='geog', columns='db',  aggfunc=len, fill_value='', margins=True)"
   ]
  },
  {
   "cell_type": "code",
   "execution_count": 15,
   "metadata": {
    "collapsed": false
   },
   "outputs": [
    {
     "data": {
      "text/html": [
       "<div>\n",
       "<table border=\"1\" class=\"dataframe\">\n",
       "  <thead>\n",
       "    <tr>\n",
       "      <th></th>\n",
       "      <th colspan=\"6\" halign=\"left\">process</th>\n",
       "    </tr>\n",
       "    <tr>\n",
       "      <th>db</th>\n",
       "      <th>EI (u)</th>\n",
       "      <th>ELCD</th>\n",
       "      <th>GaBi-Ext</th>\n",
       "      <th>GaBi-Pro</th>\n",
       "      <th>US LCI</th>\n",
       "      <th>All</th>\n",
       "    </tr>\n",
       "    <tr>\n",
       "      <th>geog</th>\n",
       "      <th></th>\n",
       "      <th></th>\n",
       "      <th></th>\n",
       "      <th></th>\n",
       "      <th></th>\n",
       "      <th></th>\n",
       "    </tr>\n",
       "  </thead>\n",
       "  <tbody>\n",
       "    <tr>\n",
       "      <th>All</th>\n",
       "      <td>13307</td>\n",
       "      <td>503</td>\n",
       "      <td>7457</td>\n",
       "      <td>3319</td>\n",
       "      <td>701</td>\n",
       "      <td>25287.0</td>\n",
       "    </tr>\n",
       "    <tr>\n",
       "      <th>GLO</th>\n",
       "      <td>6218</td>\n",
       "      <td>25</td>\n",
       "      <td>446</td>\n",
       "      <td>338</td>\n",
       "      <td>15</td>\n",
       "      <td>7042.0</td>\n",
       "    </tr>\n",
       "    <tr>\n",
       "      <th>DE</th>\n",
       "      <td>168</td>\n",
       "      <td>19</td>\n",
       "      <td>2131</td>\n",
       "      <td>314</td>\n",
       "      <td></td>\n",
       "      <td>2632.0</td>\n",
       "    </tr>\n",
       "    <tr>\n",
       "      <th>US</th>\n",
       "      <td>92</td>\n",
       "      <td></td>\n",
       "      <td>1179</td>\n",
       "      <td>137</td>\n",
       "      <td>16</td>\n",
       "      <td>1424.0</td>\n",
       "    </tr>\n",
       "    <tr>\n",
       "      <th>RNA</th>\n",
       "      <td>13</td>\n",
       "      <td></td>\n",
       "      <td>649</td>\n",
       "      <td>19</td>\n",
       "      <td>667</td>\n",
       "      <td>1348.0</td>\n",
       "    </tr>\n",
       "    <tr>\n",
       "      <th>CH</th>\n",
       "      <td>1260</td>\n",
       "      <td>10</td>\n",
       "      <td>44</td>\n",
       "      <td>33</td>\n",
       "      <td></td>\n",
       "      <td>1347.0</td>\n",
       "    </tr>\n",
       "    <tr>\n",
       "      <th>RER</th>\n",
       "      <td>1136</td>\n",
       "      <td>75</td>\n",
       "      <td>14</td>\n",
       "      <td>84</td>\n",
       "      <td>3</td>\n",
       "      <td>1312.0</td>\n",
       "    </tr>\n",
       "    <tr>\n",
       "      <th>EU-27</th>\n",
       "      <td></td>\n",
       "      <td>96</td>\n",
       "      <td>296</td>\n",
       "      <td>869</td>\n",
       "      <td></td>\n",
       "      <td>1261.0</td>\n",
       "    </tr>\n",
       "    <tr>\n",
       "      <th>CA-QC</th>\n",
       "      <td>346</td>\n",
       "      <td></td>\n",
       "      <td></td>\n",
       "      <td></td>\n",
       "      <td></td>\n",
       "      <td>346.0</td>\n",
       "    </tr>\n",
       "    <tr>\n",
       "      <th>IN</th>\n",
       "      <td>60</td>\n",
       "      <td></td>\n",
       "      <td>187</td>\n",
       "      <td>55</td>\n",
       "      <td></td>\n",
       "      <td>302.0</td>\n",
       "    </tr>\n",
       "    <tr>\n",
       "      <th>IT</th>\n",
       "      <td>73</td>\n",
       "      <td>11</td>\n",
       "      <td>149</td>\n",
       "      <td>52</td>\n",
       "      <td></td>\n",
       "      <td>285.0</td>\n",
       "    </tr>\n",
       "    <tr>\n",
       "      <th>BR</th>\n",
       "      <td>66</td>\n",
       "      <td></td>\n",
       "      <td>153</td>\n",
       "      <td>59</td>\n",
       "      <td></td>\n",
       "      <td>278.0</td>\n",
       "    </tr>\n",
       "    <tr>\n",
       "      <th>NL</th>\n",
       "      <td>76</td>\n",
       "      <td>10</td>\n",
       "      <td>117</td>\n",
       "      <td>65</td>\n",
       "      <td></td>\n",
       "      <td>268.0</td>\n",
       "    </tr>\n",
       "    <tr>\n",
       "      <th>CN</th>\n",
       "      <td>65</td>\n",
       "      <td></td>\n",
       "      <td>99</td>\n",
       "      <td>99</td>\n",
       "      <td></td>\n",
       "      <td>263.0</td>\n",
       "    </tr>\n",
       "    <tr>\n",
       "      <th>FR</th>\n",
       "      <td>94</td>\n",
       "      <td>10</td>\n",
       "      <td>106</td>\n",
       "      <td>50</td>\n",
       "      <td></td>\n",
       "      <td>260.0</td>\n",
       "    </tr>\n",
       "    <tr>\n",
       "      <th>GB</th>\n",
       "      <td>70</td>\n",
       "      <td>10</td>\n",
       "      <td>97</td>\n",
       "      <td>62</td>\n",
       "      <td></td>\n",
       "      <td>239.0</td>\n",
       "    </tr>\n",
       "    <tr>\n",
       "      <th>AT</th>\n",
       "      <td>73</td>\n",
       "      <td>10</td>\n",
       "      <td>94</td>\n",
       "      <td>47</td>\n",
       "      <td></td>\n",
       "      <td>224.0</td>\n",
       "    </tr>\n",
       "    <tr>\n",
       "      <th>ES</th>\n",
       "      <td>75</td>\n",
       "      <td>10</td>\n",
       "      <td>75</td>\n",
       "      <td>34</td>\n",
       "      <td></td>\n",
       "      <td>194.0</td>\n",
       "    </tr>\n",
       "    <tr>\n",
       "      <th>SE</th>\n",
       "      <td>77</td>\n",
       "      <td>10</td>\n",
       "      <td>60</td>\n",
       "      <td>46</td>\n",
       "      <td></td>\n",
       "      <td>193.0</td>\n",
       "    </tr>\n",
       "    <tr>\n",
       "      <th>BE</th>\n",
       "      <td>67</td>\n",
       "      <td>10</td>\n",
       "      <td>72</td>\n",
       "      <td>44</td>\n",
       "      <td></td>\n",
       "      <td>193.0</td>\n",
       "    </tr>\n",
       "  </tbody>\n",
       "</table>\n",
       "</div>"
      ],
      "text/plain": [
       "      process                                       \n",
       "db     EI (u) ELCD GaBi-Ext GaBi-Pro US LCI      All\n",
       "geog                                                \n",
       "All     13307  503     7457     3319    701  25287.0\n",
       "GLO      6218   25      446      338     15   7042.0\n",
       "DE        168   19     2131      314          2632.0\n",
       "US         92          1179      137     16   1424.0\n",
       "RNA        13           649       19    667   1348.0\n",
       "CH       1260   10       44       33          1347.0\n",
       "RER      1136   75       14       84      3   1312.0\n",
       "EU-27           96      296      869          1261.0\n",
       "CA-QC     346                                  346.0\n",
       "IN         60           187       55           302.0\n",
       "IT         73   11      149       52           285.0\n",
       "BR         66           153       59           278.0\n",
       "NL         76   10      117       65           268.0\n",
       "CN         65            99       99           263.0\n",
       "FR         94   10      106       50           260.0\n",
       "GB         70   10       97       62           239.0\n",
       "AT         73   10       94       47           224.0\n",
       "ES         75   10       75       34           194.0\n",
       "SE         77   10       60       46           193.0\n",
       "BE         67   10       72       44           193.0"
      ]
     },
     "execution_count": 15,
     "metadata": {},
     "output_type": "execute_result"
    }
   ],
   "source": [
    "P.sort_values(by=('process','All'), ascending=False)[:20]  # only show the top 20 rows"
   ]
  },
  {
   "cell_type": "markdown",
   "metadata": {},
   "source": [
    "## Count Reference Flow Frequency (table 3 in manuscript)"
   ]
  },
  {
   "cell_type": "code",
   "execution_count": 16,
   "metadata": {
    "collapsed": true
   },
   "outputs": [],
   "source": [
    "from collections import Counter"
   ]
  },
  {
   "cell_type": "code",
   "execution_count": 18,
   "metadata": {
    "collapsed": false
   },
   "outputs": [],
   "source": [
    "def create_flow_map(archive):\n",
    "    \"\"\"\n",
    "    This function creates a hash map from the entityId to the entity's tags- very fast\n",
    "    \"\"\"\n",
    "    flow_map = dict()\n",
    "    for f in archive['flows']:\n",
    "        flow_map[f['entityId']] = f['tags']\n",
    "    return flow_map\n"
   ]
  },
  {
   "cell_type": "code",
   "execution_count": 19,
   "metadata": {
    "collapsed": false
   },
   "outputs": [],
   "source": [
    "def count_ref_flows(archive):\n",
    "    rfs = Counter()\n",
    "    flow_map = create_flow_map(archive)\n",
    "    for i in archive['processes']:\n",
    "        x = i['referenceExchange']\n",
    "        if x == \"None\":\n",
    "            count_key = (None, None)\n",
    "        else:\n",
    "            direc, flowref = x.split(': ')\n",
    "            try:\n",
    "                flowname = flow_map[flowref]['Name']\n",
    "            except KeyError:\n",
    "                flowname = flow_map[int(flowref)]['Name']\n",
    "            except KeyError:\n",
    "                flowname = 'Flow Not Found!'\n",
    "            count_key = (direc, flowname)\n",
    "        rfs[count_key] += 1\n",
    "    return rfs\n"
   ]
  },
  {
   "cell_type": "code",
   "execution_count": 20,
   "metadata": {
    "collapsed": false
   },
   "outputs": [
    {
     "name": "stdout",
     "output_type": "stream",
     "text": [
      "Parsing archive EI (u)\n",
      "Parsing archive ELCD\n",
      "Parsing archive GaBi-Pro\n",
      "Parsing archive GaBi-Ext\n",
      "Parsing archive US LCI\n"
     ]
    }
   ],
   "source": [
    "rf_count = []\n",
    "for i, archive in enumerate(C):\n",
    "    print('Parsing archive %s' % names[i])\n",
    "    rfs = count_ref_flows(archive)\n",
    "    for rf, count in rfs.items():\n",
    "        try:\n",
    "            rf_count.append({'db': names[i], 'exchange': '%s: %s' % (rf[0], rf[1]), 'count': count})\n",
    "        except TypeError:\n",
    "            print('rf: %s (type %s) count: %d' %(rf, type(rf), count))"
   ]
  },
  {
   "cell_type": "markdown",
   "metadata": {},
   "source": [
    "(should take << 1 second)"
   ]
  },
  {
   "cell_type": "code",
   "execution_count": 21,
   "metadata": {
    "collapsed": true
   },
   "outputs": [],
   "source": [
    "RF = pd.DataFrame(rf_count).pivot_table(index='exchange', columns='db', aggfunc=sum, fill_value='', margins=True)"
   ]
  },
  {
   "cell_type": "code",
   "execution_count": 22,
   "metadata": {
    "collapsed": false
   },
   "outputs": [
    {
     "data": {
      "text/html": [
       "<div>\n",
       "<table border=\"1\" class=\"dataframe\">\n",
       "  <thead>\n",
       "    <tr>\n",
       "      <th></th>\n",
       "      <th colspan=\"6\" halign=\"left\">count</th>\n",
       "    </tr>\n",
       "    <tr>\n",
       "      <th>db</th>\n",
       "      <th>EI (u)</th>\n",
       "      <th>ELCD</th>\n",
       "      <th>GaBi-Ext</th>\n",
       "      <th>GaBi-Pro</th>\n",
       "      <th>US LCI</th>\n",
       "      <th>All</th>\n",
       "    </tr>\n",
       "    <tr>\n",
       "      <th>exchange</th>\n",
       "      <th></th>\n",
       "      <th></th>\n",
       "      <th></th>\n",
       "      <th></th>\n",
       "      <th></th>\n",
       "      <th></th>\n",
       "    </tr>\n",
       "  </thead>\n",
       "  <tbody>\n",
       "    <tr>\n",
       "      <th>All</th>\n",
       "      <td>13307</td>\n",
       "      <td>503</td>\n",
       "      <td>7457</td>\n",
       "      <td>3319</td>\n",
       "      <td>701</td>\n",
       "      <td>25287.0</td>\n",
       "    </tr>\n",
       "    <tr>\n",
       "      <th>Output: electricity, high voltage</th>\n",
       "      <td>1974</td>\n",
       "      <td></td>\n",
       "      <td></td>\n",
       "      <td></td>\n",
       "      <td></td>\n",
       "      <td>1974.0</td>\n",
       "    </tr>\n",
       "    <tr>\n",
       "      <th>Output: Thermal energy (MJ)</th>\n",
       "      <td></td>\n",
       "      <td></td>\n",
       "      <td>944</td>\n",
       "      <td>236</td>\n",
       "      <td></td>\n",
       "      <td>1180.0</td>\n",
       "    </tr>\n",
       "    <tr>\n",
       "      <th>Output: Electricity</th>\n",
       "      <td></td>\n",
       "      <td>64</td>\n",
       "      <td>522</td>\n",
       "      <td>471</td>\n",
       "      <td></td>\n",
       "      <td>1057.0</td>\n",
       "    </tr>\n",
       "    <tr>\n",
       "      <th>Output: Steam (MJ)</th>\n",
       "      <td></td>\n",
       "      <td></td>\n",
       "      <td>340</td>\n",
       "      <td>622</td>\n",
       "      <td></td>\n",
       "      <td>962.0</td>\n",
       "    </tr>\n",
       "    <tr>\n",
       "      <th>Output: electricity, low voltage</th>\n",
       "      <td>730</td>\n",
       "      <td></td>\n",
       "      <td></td>\n",
       "      <td></td>\n",
       "      <td></td>\n",
       "      <td>730.0</td>\n",
       "    </tr>\n",
       "    <tr>\n",
       "      <th>Input: Housing technology</th>\n",
       "      <td></td>\n",
       "      <td></td>\n",
       "      <td>340</td>\n",
       "      <td>191</td>\n",
       "      <td></td>\n",
       "      <td>531.0</td>\n",
       "    </tr>\n",
       "    <tr>\n",
       "      <th>Output: electricity, medium voltage</th>\n",
       "      <td>423</td>\n",
       "      <td></td>\n",
       "      <td></td>\n",
       "      <td></td>\n",
       "      <td></td>\n",
       "      <td>423.0</td>\n",
       "    </tr>\n",
       "    <tr>\n",
       "      <th>Output: heat, district or industrial, other than natural gas</th>\n",
       "      <td>300</td>\n",
       "      <td></td>\n",
       "      <td></td>\n",
       "      <td></td>\n",
       "      <td></td>\n",
       "      <td>300.0</td>\n",
       "    </tr>\n",
       "    <tr>\n",
       "      <th>Output: Cargo</th>\n",
       "      <td></td>\n",
       "      <td></td>\n",
       "      <td>80</td>\n",
       "      <td>127</td>\n",
       "      <td></td>\n",
       "      <td>207.0</td>\n",
       "    </tr>\n",
       "    <tr>\n",
       "      <th>Output: heat, district or industrial, natural gas</th>\n",
       "      <td>141</td>\n",
       "      <td></td>\n",
       "      <td></td>\n",
       "      <td></td>\n",
       "      <td></td>\n",
       "      <td>141.0</td>\n",
       "    </tr>\n",
       "    <tr>\n",
       "      <th>None: None</th>\n",
       "      <td></td>\n",
       "      <td>3</td>\n",
       "      <td>107</td>\n",
       "      <td>10</td>\n",
       "      <td>1</td>\n",
       "      <td>121.0</td>\n",
       "    </tr>\n",
       "    <tr>\n",
       "      <th>Input: Aluminium scrap</th>\n",
       "      <td></td>\n",
       "      <td></td>\n",
       "      <td>60</td>\n",
       "      <td>59</td>\n",
       "      <td></td>\n",
       "      <td>119.0</td>\n",
       "    </tr>\n",
       "    <tr>\n",
       "      <th>Input: Incineration good</th>\n",
       "      <td></td>\n",
       "      <td></td>\n",
       "      <td>53</td>\n",
       "      <td>58</td>\n",
       "      <td></td>\n",
       "      <td>111.0</td>\n",
       "    </tr>\n",
       "    <tr>\n",
       "      <th>Input: Steel scrap</th>\n",
       "      <td></td>\n",
       "      <td></td>\n",
       "      <td>55</td>\n",
       "      <td>54</td>\n",
       "      <td></td>\n",
       "      <td>109.0</td>\n",
       "    </tr>\n",
       "    <tr>\n",
       "      <th>Output: blast furnace gas</th>\n",
       "      <td>108</td>\n",
       "      <td></td>\n",
       "      <td></td>\n",
       "      <td></td>\n",
       "      <td></td>\n",
       "      <td>108.0</td>\n",
       "    </tr>\n",
       "    <tr>\n",
       "      <th>Output: biogas</th>\n",
       "      <td>97</td>\n",
       "      <td></td>\n",
       "      <td></td>\n",
       "      <td></td>\n",
       "      <td></td>\n",
       "      <td>97.0</td>\n",
       "    </tr>\n",
       "    <tr>\n",
       "      <th>Output: Elevator utilization</th>\n",
       "      <td></td>\n",
       "      <td></td>\n",
       "      <td>90</td>\n",
       "      <td>6</td>\n",
       "      <td></td>\n",
       "      <td>96.0</td>\n",
       "    </tr>\n",
       "    <tr>\n",
       "      <th>Output: Used cooling (Emission air conditioner)</th>\n",
       "      <td></td>\n",
       "      <td></td>\n",
       "      <td>86</td>\n",
       "      <td>4</td>\n",
       "      <td></td>\n",
       "      <td>90.0</td>\n",
       "    </tr>\n",
       "    <tr>\n",
       "      <th>Output: Hour of operation</th>\n",
       "      <td></td>\n",
       "      <td></td>\n",
       "      <td>84</td>\n",
       "      <td>3</td>\n",
       "      <td></td>\n",
       "      <td>87.0</td>\n",
       "    </tr>\n",
       "  </tbody>\n",
       "</table>\n",
       "</div>"
      ],
      "text/plain": [
       "                                                    count                \\\n",
       "db                                                 EI (u) ELCD GaBi-Ext   \n",
       "exchange                                                                  \n",
       "All                                                 13307  503     7457   \n",
       "Output: electricity, high voltage                    1974                 \n",
       "Output: Thermal energy (MJ)                                         944   \n",
       "Output: Electricity                                         64      522   \n",
       "Output: Steam (MJ)                                                  340   \n",
       "Output: electricity, low voltage                      730                 \n",
       "Input: Housing technology                                           340   \n",
       "Output: electricity, medium voltage                   423                 \n",
       "Output: heat, district or industrial, other tha...    300                 \n",
       "Output: Cargo                                                        80   \n",
       "Output: heat, district or industrial, natural gas     141                 \n",
       "None: None                                                   3      107   \n",
       "Input: Aluminium scrap                                               60   \n",
       "Input: Incineration good                                             53   \n",
       "Input: Steel scrap                                                   55   \n",
       "Output: blast furnace gas                             108                 \n",
       "Output: biogas                                         97                 \n",
       "Output: Elevator utilization                                         90   \n",
       "Output: Used cooling (Emission air conditioner)                      86   \n",
       "Output: Hour of operation                                            84   \n",
       "\n",
       "                                                                             \n",
       "db                                                 GaBi-Pro US LCI      All  \n",
       "exchange                                                                     \n",
       "All                                                    3319    701  25287.0  \n",
       "Output: electricity, high voltage                                    1974.0  \n",
       "Output: Thermal energy (MJ)                             236          1180.0  \n",
       "Output: Electricity                                     471          1057.0  \n",
       "Output: Steam (MJ)                                      622           962.0  \n",
       "Output: electricity, low voltage                                      730.0  \n",
       "Input: Housing technology                               191           531.0  \n",
       "Output: electricity, medium voltage                                   423.0  \n",
       "Output: heat, district or industrial, other tha...                    300.0  \n",
       "Output: Cargo                                           127           207.0  \n",
       "Output: heat, district or industrial, natural gas                     141.0  \n",
       "None: None                                               10      1    121.0  \n",
       "Input: Aluminium scrap                                   59           119.0  \n",
       "Input: Incineration good                                 58           111.0  \n",
       "Input: Steel scrap                                       54           109.0  \n",
       "Output: blast furnace gas                                             108.0  \n",
       "Output: biogas                                                         97.0  \n",
       "Output: Elevator utilization                              6            96.0  \n",
       "Output: Used cooling (Emission air conditioner)           4            90.0  \n",
       "Output: Hour of operation                                 3            87.0  "
      ]
     },
     "execution_count": 22,
     "metadata": {},
     "output_type": "execute_result"
    }
   ],
   "source": [
    "RF.sort_values(('count','All'), ascending=False)[:20]"
   ]
  },
  {
   "cell_type": "markdown",
   "metadata": {},
   "source": [
    "## Text Co-occurrence (table 5 in manuscript)"
   ]
  }
 ],
 "metadata": {
  "kernelspec": {
   "display_name": "Python 2",
   "language": "python",
   "name": "python2"
  },
  "language_info": {
   "codemirror_mode": {
    "name": "ipython",
    "version": 2
   },
   "file_extension": ".py",
   "mimetype": "text/x-python",
   "name": "python",
   "nbconvert_exporter": "python",
   "pygments_lexer": "ipython2",
   "version": "2.7.10"
  }
 },
 "nbformat": 4,
 "nbformat_minor": 0
}
