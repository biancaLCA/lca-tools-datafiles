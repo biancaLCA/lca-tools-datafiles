{
 "cells": [
  {
   "cell_type": "code",
   "execution_count": 1,
   "metadata": {
    "collapsed": true
   },
   "outputs": [],
   "source": [
    "import gzip\n",
    "import json\n",
    "import os\n",
    "import re\n",
    "\n",
    "from __future__ import print_function, unicode_literals"
   ]
  },
  {
   "cell_type": "code",
   "execution_count": 2,
   "metadata": {
    "collapsed": true
   },
   "outputs": [],
   "source": [
    "catalog_dir = os.path.join('..','catalogs')"
   ]
  },
  {
   "cell_type": "code",
   "execution_count": 3,
   "metadata": {
    "collapsed": true
   },
   "outputs": [],
   "source": [
    "files = list(filter(lambda x: bool(re.search('json\\.gz$', x)), os.listdir(catalog_dir)))"
   ]
  },
  {
   "cell_type": "code",
   "execution_count": 4,
   "metadata": {
    "collapsed": false
   },
   "outputs": [
    {
     "data": {
      "text/plain": [
       "[u'ecoinvent_3.2_apos_xlsx.json.gz',\n",
       " u'ecoinvent_3.2_consequential_xlsx.json.gz',\n",
       " u'ecoinvent_3.2_cut-off_xlsx.json.gz',\n",
       " u'ecoinvent_3.2_undefined_xlsx.json.gz',\n",
       " u'ei3.2_undefined_spold.json.gz',\n",
       " u'ei_lcia.json.gz',\n",
       " u'elcd_3.2.json.gz',\n",
       " u'elcd_lcia.json.gz',\n",
       " u'gabi_2016_all-extensions.json.gz',\n",
       " u'gabi_2016_professional-database-2016.json.gz',\n",
       " u'uslci_ecospold.json.gz']"
      ]
     },
     "execution_count": 4,
     "metadata": {},
     "output_type": "execute_result"
    }
   ],
   "source": [
    "files"
   ]
  },
  {
   "cell_type": "markdown",
   "metadata": {},
   "source": [
    "## Select databases of interest"
   ]
  },
  {
   "cell_type": "code",
   "execution_count": 5,
   "metadata": {
    "collapsed": true
   },
   "outputs": [],
   "source": [
    "my_files = [os.path.join(catalog_dir, files[k]) for k in (3, 6, 9, 8, 10)]  # we love list comprehensions!"
   ]
  },
  {
   "cell_type": "code",
   "execution_count": 6,
   "metadata": {
    "collapsed": false
   },
   "outputs": [
    {
     "data": {
      "text/plain": [
       "[u'../catalogs/ecoinvent_3.2_undefined_xlsx.json.gz',\n",
       " u'../catalogs/elcd_3.2.json.gz',\n",
       " u'../catalogs/gabi_2016_professional-database-2016.json.gz',\n",
       " u'../catalogs/gabi_2016_all-extensions.json.gz',\n",
       " u'../catalogs/uslci_ecospold.json.gz']"
      ]
     },
     "execution_count": 6,
     "metadata": {},
     "output_type": "execute_result"
    }
   ],
   "source": [
    "my_files"
   ]
  },
  {
   "cell_type": "markdown",
   "metadata": {},
   "source": [
    "Give the databases short names for reference"
   ]
  },
  {
   "cell_type": "code",
   "execution_count": 7,
   "metadata": {
    "collapsed": true
   },
   "outputs": [],
   "source": [
    "names = ['EI (u)', 'ELCD', 'GaBi-Pro', 'GaBi-Ext', 'US LCI']"
   ]
  },
  {
   "cell_type": "code",
   "execution_count": 8,
   "metadata": {
    "collapsed": true
   },
   "outputs": [],
   "source": [
    "def load_archive(filename):\n",
    "    with gzip.open(filename, 'r') as fp:\n",
    "        J = json.load(fp)\n",
    "\n",
    "    return J\n"
   ]
  },
  {
   "cell_type": "markdown",
   "metadata": {},
   "source": [
    "Load all the archives into a collection called 'C'"
   ]
  },
  {
   "cell_type": "code",
   "execution_count": 9,
   "metadata": {
    "collapsed": false
   },
   "outputs": [],
   "source": [
    "C = [load_archive(fname) for fname in my_files]"
   ]
  },
  {
   "cell_type": "markdown",
   "metadata": {},
   "source": [
    "(should take about 2-5 seconds)"
   ]
  },
  {
   "cell_type": "markdown",
   "metadata": {},
   "source": [
    "## Create geography grid (Table 4 in manuscript)"
   ]
  },
  {
   "cell_type": "code",
   "execution_count": 10,
   "metadata": {
    "collapsed": false
   },
   "outputs": [],
   "source": [
    "geog = []\n",
    "for i, archive in enumerate(C):\n",
    "    for p in archive['processes']:\n",
    "        geog.append({'db': names[i], 'process': p['Name'], 'geog': p['SpatialScope']})"
   ]
  },
  {
   "cell_type": "markdown",
   "metadata": {},
   "source": [
    "there should be one entry in `geog` for each process listed in a database - total of around 25,000 processes"
   ]
  },
  {
   "cell_type": "code",
   "execution_count": 11,
   "metadata": {
    "collapsed": false
   },
   "outputs": [
    {
     "data": {
      "text/plain": [
       "25287"
      ]
     },
     "execution_count": 11,
     "metadata": {},
     "output_type": "execute_result"
    }
   ],
   "source": [
    "len(geog)"
   ]
  },
  {
   "cell_type": "markdown",
   "metadata": {},
   "source": [
    "use `pandas` to draw the pivot charts"
   ]
  },
  {
   "cell_type": "code",
   "execution_count": 12,
   "metadata": {
    "collapsed": true
   },
   "outputs": [],
   "source": [
    "import pandas as pd"
   ]
  },
  {
   "cell_type": "code",
   "execution_count": 13,
   "metadata": {
    "collapsed": true
   },
   "outputs": [],
   "source": [
    "P = pd.DataFrame(geog).pivot_table(index='geog', columns='db',  aggfunc=len, fill_value='', margins=True)"
   ]
  },
  {
   "cell_type": "code",
   "execution_count": 14,
   "metadata": {
    "collapsed": false
   },
   "outputs": [
    {
     "data": {
      "text/html": [
       "<div>\n",
       "<table border=\"1\" class=\"dataframe\">\n",
       "  <thead>\n",
       "    <tr>\n",
       "      <th></th>\n",
       "      <th colspan=\"6\" halign=\"left\">process</th>\n",
       "    </tr>\n",
       "    <tr>\n",
       "      <th>db</th>\n",
       "      <th>EI (u)</th>\n",
       "      <th>ELCD</th>\n",
       "      <th>GaBi-Ext</th>\n",
       "      <th>GaBi-Pro</th>\n",
       "      <th>US LCI</th>\n",
       "      <th>All</th>\n",
       "    </tr>\n",
       "    <tr>\n",
       "      <th>geog</th>\n",
       "      <th></th>\n",
       "      <th></th>\n",
       "      <th></th>\n",
       "      <th></th>\n",
       "      <th></th>\n",
       "      <th></th>\n",
       "    </tr>\n",
       "  </thead>\n",
       "  <tbody>\n",
       "    <tr>\n",
       "      <th>All</th>\n",
       "      <td>13307</td>\n",
       "      <td>503</td>\n",
       "      <td>7457</td>\n",
       "      <td>3319</td>\n",
       "      <td>701</td>\n",
       "      <td>25287</td>\n",
       "    </tr>\n",
       "    <tr>\n",
       "      <th>GLO</th>\n",
       "      <td>6218</td>\n",
       "      <td>25</td>\n",
       "      <td>446</td>\n",
       "      <td>338</td>\n",
       "      <td>15</td>\n",
       "      <td>7042</td>\n",
       "    </tr>\n",
       "    <tr>\n",
       "      <th>DE</th>\n",
       "      <td>168</td>\n",
       "      <td>19</td>\n",
       "      <td>2131</td>\n",
       "      <td>314</td>\n",
       "      <td></td>\n",
       "      <td>2632</td>\n",
       "    </tr>\n",
       "    <tr>\n",
       "      <th>US</th>\n",
       "      <td>92</td>\n",
       "      <td></td>\n",
       "      <td>1179</td>\n",
       "      <td>137</td>\n",
       "      <td>16</td>\n",
       "      <td>1424</td>\n",
       "    </tr>\n",
       "    <tr>\n",
       "      <th>RNA</th>\n",
       "      <td>13</td>\n",
       "      <td></td>\n",
       "      <td>649</td>\n",
       "      <td>19</td>\n",
       "      <td>667</td>\n",
       "      <td>1348</td>\n",
       "    </tr>\n",
       "    <tr>\n",
       "      <th>CH</th>\n",
       "      <td>1260</td>\n",
       "      <td>10</td>\n",
       "      <td>44</td>\n",
       "      <td>33</td>\n",
       "      <td></td>\n",
       "      <td>1347</td>\n",
       "    </tr>\n",
       "    <tr>\n",
       "      <th>RER</th>\n",
       "      <td>1136</td>\n",
       "      <td>75</td>\n",
       "      <td>14</td>\n",
       "      <td>84</td>\n",
       "      <td>3</td>\n",
       "      <td>1312</td>\n",
       "    </tr>\n",
       "    <tr>\n",
       "      <th>EU-27</th>\n",
       "      <td></td>\n",
       "      <td>96</td>\n",
       "      <td>296</td>\n",
       "      <td>869</td>\n",
       "      <td></td>\n",
       "      <td>1261</td>\n",
       "    </tr>\n",
       "    <tr>\n",
       "      <th>CA-QC</th>\n",
       "      <td>346</td>\n",
       "      <td></td>\n",
       "      <td></td>\n",
       "      <td></td>\n",
       "      <td></td>\n",
       "      <td>346</td>\n",
       "    </tr>\n",
       "    <tr>\n",
       "      <th>IN</th>\n",
       "      <td>60</td>\n",
       "      <td></td>\n",
       "      <td>187</td>\n",
       "      <td>55</td>\n",
       "      <td></td>\n",
       "      <td>302</td>\n",
       "    </tr>\n",
       "    <tr>\n",
       "      <th>IT</th>\n",
       "      <td>73</td>\n",
       "      <td>11</td>\n",
       "      <td>149</td>\n",
       "      <td>52</td>\n",
       "      <td></td>\n",
       "      <td>285</td>\n",
       "    </tr>\n",
       "    <tr>\n",
       "      <th>BR</th>\n",
       "      <td>66</td>\n",
       "      <td></td>\n",
       "      <td>153</td>\n",
       "      <td>59</td>\n",
       "      <td></td>\n",
       "      <td>278</td>\n",
       "    </tr>\n",
       "    <tr>\n",
       "      <th>NL</th>\n",
       "      <td>76</td>\n",
       "      <td>10</td>\n",
       "      <td>117</td>\n",
       "      <td>65</td>\n",
       "      <td></td>\n",
       "      <td>268</td>\n",
       "    </tr>\n",
       "    <tr>\n",
       "      <th>CN</th>\n",
       "      <td>65</td>\n",
       "      <td></td>\n",
       "      <td>99</td>\n",
       "      <td>99</td>\n",
       "      <td></td>\n",
       "      <td>263</td>\n",
       "    </tr>\n",
       "    <tr>\n",
       "      <th>FR</th>\n",
       "      <td>94</td>\n",
       "      <td>10</td>\n",
       "      <td>106</td>\n",
       "      <td>50</td>\n",
       "      <td></td>\n",
       "      <td>260</td>\n",
       "    </tr>\n",
       "    <tr>\n",
       "      <th>GB</th>\n",
       "      <td>70</td>\n",
       "      <td>10</td>\n",
       "      <td>97</td>\n",
       "      <td>62</td>\n",
       "      <td></td>\n",
       "      <td>239</td>\n",
       "    </tr>\n",
       "    <tr>\n",
       "      <th>AT</th>\n",
       "      <td>73</td>\n",
       "      <td>10</td>\n",
       "      <td>94</td>\n",
       "      <td>47</td>\n",
       "      <td></td>\n",
       "      <td>224</td>\n",
       "    </tr>\n",
       "    <tr>\n",
       "      <th>ES</th>\n",
       "      <td>75</td>\n",
       "      <td>10</td>\n",
       "      <td>75</td>\n",
       "      <td>34</td>\n",
       "      <td></td>\n",
       "      <td>194</td>\n",
       "    </tr>\n",
       "    <tr>\n",
       "      <th>SE</th>\n",
       "      <td>77</td>\n",
       "      <td>10</td>\n",
       "      <td>60</td>\n",
       "      <td>46</td>\n",
       "      <td></td>\n",
       "      <td>193</td>\n",
       "    </tr>\n",
       "    <tr>\n",
       "      <th>BE</th>\n",
       "      <td>67</td>\n",
       "      <td>10</td>\n",
       "      <td>72</td>\n",
       "      <td>44</td>\n",
       "      <td></td>\n",
       "      <td>193</td>\n",
       "    </tr>\n",
       "  </tbody>\n",
       "</table>\n",
       "</div>"
      ],
      "text/plain": [
       "      process                                     \n",
       "db     EI (u) ELCD GaBi-Ext GaBi-Pro US LCI    All\n",
       "geog                                              \n",
       "All     13307  503     7457     3319    701  25287\n",
       "GLO      6218   25      446      338     15   7042\n",
       "DE        168   19     2131      314          2632\n",
       "US         92          1179      137     16   1424\n",
       "RNA        13           649       19    667   1348\n",
       "CH       1260   10       44       33          1347\n",
       "RER      1136   75       14       84      3   1312\n",
       "EU-27           96      296      869          1261\n",
       "CA-QC     346                                  346\n",
       "IN         60           187       55           302\n",
       "IT         73   11      149       52           285\n",
       "BR         66           153       59           278\n",
       "NL         76   10      117       65           268\n",
       "CN         65            99       99           263\n",
       "FR         94   10      106       50           260\n",
       "GB         70   10       97       62           239\n",
       "AT         73   10       94       47           224\n",
       "ES         75   10       75       34           194\n",
       "SE         77   10       60       46           193\n",
       "BE         67   10       72       44           193"
      ]
     },
     "execution_count": 14,
     "metadata": {},
     "output_type": "execute_result"
    }
   ],
   "source": [
    "P.sort_values(by=('process','All'), ascending=False)[:20]  # only show the top 20 rows"
   ]
  },
  {
   "cell_type": "markdown",
   "metadata": {},
   "source": [
    "## Count Reference Flow Frequency (table 3 in manuscript)"
   ]
  },
  {
   "cell_type": "code",
   "execution_count": 15,
   "metadata": {
    "collapsed": true
   },
   "outputs": [],
   "source": [
    "from collections import Counter"
   ]
  },
  {
   "cell_type": "code",
   "execution_count": 16,
   "metadata": {
    "collapsed": false
   },
   "outputs": [],
   "source": [
    "def create_flow_map(archive):\n",
    "    \"\"\"\n",
    "    This function creates a hash map from the entityId to the entity's tags- very fast\n",
    "    \"\"\"\n",
    "    flow_map = dict()\n",
    "    for f in archive['flows']:\n",
    "        flow_map[f['entityId']] = f\n",
    "    return flow_map\n"
   ]
  },
  {
   "cell_type": "code",
   "execution_count": 17,
   "metadata": {
    "collapsed": false
   },
   "outputs": [],
   "source": [
    "def count_ref_flows(archive):\n",
    "    rfs = Counter()\n",
    "    flow_map = create_flow_map(archive)\n",
    "    for i in archive['processes']:\n",
    "        x = [v for v in i['exchanges'] if 'isReference' in v and v['isReference'] is True]\n",
    "        if len(x) == 0:\n",
    "            count_key = (None, None)\n",
    "            rfs[count_key] += 1\n",
    "        else:\n",
    "            for xc in x:\n",
    "                direc = xc['direction']\n",
    "                flowref = xc['flow']\n",
    "                try:\n",
    "                    flowname = flow_map[flowref]['Name']\n",
    "                except KeyError:\n",
    "                    flowname = flow_map[int(flowref)]['Name']\n",
    "                except KeyError:\n",
    "                    flowname = 'Flow Not Found!'\n",
    "                count_key = (direc, flowname)\n",
    "                rfs[count_key] += 1\n",
    "    return rfs\n"
   ]
  },
  {
   "cell_type": "code",
   "execution_count": 18,
   "metadata": {
    "collapsed": false
   },
   "outputs": [
    {
     "name": "stdout",
     "output_type": "stream",
     "text": [
      "Parsing archive EI (u)\n",
      "Parsing archive ELCD\n",
      "Parsing archive GaBi-Pro\n",
      "Parsing archive GaBi-Ext\n",
      "Parsing archive US LCI\n"
     ]
    }
   ],
   "source": [
    "rf_count = []\n",
    "for i, archive in enumerate(C):\n",
    "    print('Parsing archive %s' % names[i])\n",
    "    rfs = count_ref_flows(archive)\n",
    "    for rf, count in rfs.items():\n",
    "        try:\n",
    "            rf_count.append({'db': names[i], 'exchange': '%s: %s' % (rf[0], rf[1]), 'count': count})\n",
    "        except TypeError:\n",
    "            print('rf: %s (type %s) count: %d' %(rf, type(rf), count))"
   ]
  },
  {
   "cell_type": "markdown",
   "metadata": {},
   "source": [
    "(should take << 1 second)"
   ]
  },
  {
   "cell_type": "code",
   "execution_count": 19,
   "metadata": {
    "collapsed": true
   },
   "outputs": [],
   "source": [
    "RF = pd.DataFrame(rf_count).pivot_table(index='exchange', columns='db', aggfunc=sum, fill_value='', margins=True)"
   ]
  },
  {
   "cell_type": "code",
   "execution_count": 20,
   "metadata": {
    "collapsed": false
   },
   "outputs": [
    {
     "data": {
      "text/html": [
       "<div>\n",
       "<table border=\"1\" class=\"dataframe\">\n",
       "  <thead>\n",
       "    <tr>\n",
       "      <th></th>\n",
       "      <th colspan=\"6\" halign=\"left\">count</th>\n",
       "    </tr>\n",
       "    <tr>\n",
       "      <th>db</th>\n",
       "      <th>EI (u)</th>\n",
       "      <th>ELCD</th>\n",
       "      <th>GaBi-Ext</th>\n",
       "      <th>GaBi-Pro</th>\n",
       "      <th>US LCI</th>\n",
       "      <th>All</th>\n",
       "    </tr>\n",
       "    <tr>\n",
       "      <th>exchange</th>\n",
       "      <th></th>\n",
       "      <th></th>\n",
       "      <th></th>\n",
       "      <th></th>\n",
       "      <th></th>\n",
       "      <th></th>\n",
       "    </tr>\n",
       "  </thead>\n",
       "  <tbody>\n",
       "    <tr>\n",
       "      <th>All</th>\n",
       "      <td>14158</td>\n",
       "      <td>503</td>\n",
       "      <td>7457</td>\n",
       "      <td>3319</td>\n",
       "      <td>701</td>\n",
       "      <td>26138</td>\n",
       "    </tr>\n",
       "    <tr>\n",
       "      <th>Output: electricity, high voltage</th>\n",
       "      <td>2350</td>\n",
       "      <td></td>\n",
       "      <td></td>\n",
       "      <td></td>\n",
       "      <td></td>\n",
       "      <td>2350</td>\n",
       "    </tr>\n",
       "    <tr>\n",
       "      <th>Output: Thermal energy (MJ)</th>\n",
       "      <td></td>\n",
       "      <td></td>\n",
       "      <td>944</td>\n",
       "      <td>236</td>\n",
       "      <td></td>\n",
       "      <td>1180</td>\n",
       "    </tr>\n",
       "    <tr>\n",
       "      <th>Output: Electricity</th>\n",
       "      <td></td>\n",
       "      <td>64</td>\n",
       "      <td>522</td>\n",
       "      <td>471</td>\n",
       "      <td></td>\n",
       "      <td>1057</td>\n",
       "    </tr>\n",
       "    <tr>\n",
       "      <th>Output: Steam (MJ)</th>\n",
       "      <td></td>\n",
       "      <td></td>\n",
       "      <td>340</td>\n",
       "      <td>622</td>\n",
       "      <td></td>\n",
       "      <td>962</td>\n",
       "    </tr>\n",
       "    <tr>\n",
       "      <th>Output: electricity, low voltage</th>\n",
       "      <td>730</td>\n",
       "      <td></td>\n",
       "      <td></td>\n",
       "      <td></td>\n",
       "      <td></td>\n",
       "      <td>730</td>\n",
       "    </tr>\n",
       "    <tr>\n",
       "      <th>Input: Housing technology</th>\n",
       "      <td></td>\n",
       "      <td></td>\n",
       "      <td>340</td>\n",
       "      <td>191</td>\n",
       "      <td></td>\n",
       "      <td>531</td>\n",
       "    </tr>\n",
       "    <tr>\n",
       "      <th>Output: electricity, medium voltage</th>\n",
       "      <td>423</td>\n",
       "      <td></td>\n",
       "      <td></td>\n",
       "      <td></td>\n",
       "      <td></td>\n",
       "      <td>423</td>\n",
       "    </tr>\n",
       "    <tr>\n",
       "      <th>Output: heat, district or industrial, other than natural gas</th>\n",
       "      <td>402</td>\n",
       "      <td></td>\n",
       "      <td></td>\n",
       "      <td></td>\n",
       "      <td></td>\n",
       "      <td>402</td>\n",
       "    </tr>\n",
       "    <tr>\n",
       "      <th>Output: Cargo</th>\n",
       "      <td></td>\n",
       "      <td></td>\n",
       "      <td>80</td>\n",
       "      <td>127</td>\n",
       "      <td></td>\n",
       "      <td>207</td>\n",
       "    </tr>\n",
       "    <tr>\n",
       "      <th>Output: heat, district or industrial, natural gas</th>\n",
       "      <td>141</td>\n",
       "      <td></td>\n",
       "      <td></td>\n",
       "      <td></td>\n",
       "      <td></td>\n",
       "      <td>141</td>\n",
       "    </tr>\n",
       "    <tr>\n",
       "      <th>Output: heat, central or small-scale, other than natural gas</th>\n",
       "      <td>139</td>\n",
       "      <td></td>\n",
       "      <td></td>\n",
       "      <td></td>\n",
       "      <td></td>\n",
       "      <td>139</td>\n",
       "    </tr>\n",
       "    <tr>\n",
       "      <th>None: None</th>\n",
       "      <td></td>\n",
       "      <td>3</td>\n",
       "      <td>107</td>\n",
       "      <td>10</td>\n",
       "      <td>1</td>\n",
       "      <td>121</td>\n",
       "    </tr>\n",
       "    <tr>\n",
       "      <th>Input: Aluminium scrap</th>\n",
       "      <td></td>\n",
       "      <td></td>\n",
       "      <td>60</td>\n",
       "      <td>59</td>\n",
       "      <td></td>\n",
       "      <td>119</td>\n",
       "    </tr>\n",
       "    <tr>\n",
       "      <th>Input: Incineration good</th>\n",
       "      <td></td>\n",
       "      <td></td>\n",
       "      <td>53</td>\n",
       "      <td>58</td>\n",
       "      <td></td>\n",
       "      <td>111</td>\n",
       "    </tr>\n",
       "    <tr>\n",
       "      <th>Input: Steel scrap</th>\n",
       "      <td></td>\n",
       "      <td></td>\n",
       "      <td>55</td>\n",
       "      <td>54</td>\n",
       "      <td></td>\n",
       "      <td>109</td>\n",
       "    </tr>\n",
       "    <tr>\n",
       "      <th>Output: blast furnace gas</th>\n",
       "      <td>108</td>\n",
       "      <td></td>\n",
       "      <td></td>\n",
       "      <td></td>\n",
       "      <td></td>\n",
       "      <td>108</td>\n",
       "    </tr>\n",
       "    <tr>\n",
       "      <th>Output: biogas</th>\n",
       "      <td>97</td>\n",
       "      <td></td>\n",
       "      <td></td>\n",
       "      <td></td>\n",
       "      <td></td>\n",
       "      <td>97</td>\n",
       "    </tr>\n",
       "    <tr>\n",
       "      <th>Output: Elevator utilization</th>\n",
       "      <td></td>\n",
       "      <td></td>\n",
       "      <td>90</td>\n",
       "      <td>6</td>\n",
       "      <td></td>\n",
       "      <td>96</td>\n",
       "    </tr>\n",
       "    <tr>\n",
       "      <th>Output: Used cooling (Emission air conditioner)</th>\n",
       "      <td></td>\n",
       "      <td></td>\n",
       "      <td>86</td>\n",
       "      <td>4</td>\n",
       "      <td></td>\n",
       "      <td>90</td>\n",
       "    </tr>\n",
       "  </tbody>\n",
       "</table>\n",
       "</div>"
      ],
      "text/plain": [
       "                                                    count                \\\n",
       "db                                                 EI (u) ELCD GaBi-Ext   \n",
       "exchange                                                                  \n",
       "All                                                 14158  503     7457   \n",
       "Output: electricity, high voltage                    2350                 \n",
       "Output: Thermal energy (MJ)                                         944   \n",
       "Output: Electricity                                         64      522   \n",
       "Output: Steam (MJ)                                                  340   \n",
       "Output: electricity, low voltage                      730                 \n",
       "Input: Housing technology                                           340   \n",
       "Output: electricity, medium voltage                   423                 \n",
       "Output: heat, district or industrial, other tha...    402                 \n",
       "Output: Cargo                                                        80   \n",
       "Output: heat, district or industrial, natural gas     141                 \n",
       "Output: heat, central or small-scale, other tha...    139                 \n",
       "None: None                                                   3      107   \n",
       "Input: Aluminium scrap                                               60   \n",
       "Input: Incineration good                                             53   \n",
       "Input: Steel scrap                                                   55   \n",
       "Output: blast furnace gas                             108                 \n",
       "Output: biogas                                         97                 \n",
       "Output: Elevator utilization                                         90   \n",
       "Output: Used cooling (Emission air conditioner)                      86   \n",
       "\n",
       "                                                                           \n",
       "db                                                 GaBi-Pro US LCI    All  \n",
       "exchange                                                                   \n",
       "All                                                    3319    701  26138  \n",
       "Output: electricity, high voltage                                    2350  \n",
       "Output: Thermal energy (MJ)                             236          1180  \n",
       "Output: Electricity                                     471          1057  \n",
       "Output: Steam (MJ)                                      622           962  \n",
       "Output: electricity, low voltage                                      730  \n",
       "Input: Housing technology                               191           531  \n",
       "Output: electricity, medium voltage                                   423  \n",
       "Output: heat, district or industrial, other tha...                    402  \n",
       "Output: Cargo                                           127           207  \n",
       "Output: heat, district or industrial, natural gas                     141  \n",
       "Output: heat, central or small-scale, other tha...                    139  \n",
       "None: None                                               10      1    121  \n",
       "Input: Aluminium scrap                                   59           119  \n",
       "Input: Incineration good                                 58           111  \n",
       "Input: Steel scrap                                       54           109  \n",
       "Output: blast furnace gas                                             108  \n",
       "Output: biogas                                                         97  \n",
       "Output: Elevator utilization                              6            96  \n",
       "Output: Used cooling (Emission air conditioner)           4            90  "
      ]
     },
     "execution_count": 20,
     "metadata": {},
     "output_type": "execute_result"
    }
   ],
   "source": [
    "RF.sort_values(('count','All'), ascending=False)[:20]"
   ]
  },
  {
   "cell_type": "markdown",
   "metadata": {},
   "source": [
    "## Text Co-occurrence (table 5 in manuscript)"
   ]
  },
  {
   "cell_type": "code",
   "execution_count": 21,
   "metadata": {
    "collapsed": false
   },
   "outputs": [],
   "source": [
    "from collections import defaultdict  #, Counter  # already imported\n",
    "\n",
    "def tags(entity, look_in, delimiter=';\\s*|,\\s*|\\s*\\(|\\)\\s*|/'):\n",
    "    \"\"\"\n",
    "    tags(entity, look_in, delimiter=';\\s*|,\\s*|\\s*\\(|\\)\\s*|/')\n",
    "\n",
    "    Parse the specified fields to generate a list of tags, delimited as specified\n",
    "    \n",
    "    entity: a JSON serialized entity\n",
    "    look_in: a set of fields to extract tags from\n",
    "    delimiter: regexp for re.split()  Default specifies: \n",
    "       semicolon with trailing space OR\n",
    "       comma with trailing space OR\n",
    "       open parens with leading space OR\n",
    "       close parens with trailing space OR\n",
    "       slash\n",
    "    \n",
    "    \"\"\"\n",
    "    tags = set()\n",
    "    for k, v in entity.items():\n",
    "        if v is None: continue\n",
    "        if k in look_in:\n",
    "            try:\n",
    "                tags = tags.union('='.join([k,f]) for f in filter(bool, re.split(delimiter, v)))\n",
    "            except TypeError:\n",
    "                tags = tags.union('='.join([k,f]) for f in filter(bool, re.split(delimiter, ', '.join(v))))\n",
    "                        \n",
    "    return tags\n",
    "\n",
    "def count_tags(e_list, search=None, include=None, exclude=None):\n",
    "    \"\"\"\n",
    "    count_tags(e_list, search=None, include=None, exclude=None)\n",
    "    Extract tags from entity list.\n",
    "    Optional search term: only counts entities where the search term is found\n",
    "    \n",
    "    Default fields: 'Name', 'Comment', 'SpatialScope', 'Classifications'\n",
    "    add additional fields with include=; remove fields with exclude=\n",
    "    \n",
    "    Returns d, m\n",
    "    d = a Counter object containing tags with their counts\n",
    "    m = a dictionary: keys are tags, values are lists of entity IDs bearing the tag\n",
    "    \"\"\"\n",
    "    look_in = {'Name', 'Comment', 'SpatialScope', 'Classifications'}\n",
    "    if include is not None:\n",
    "        look_in = look_in.union(set(include))\n",
    "    if exclude is not None:\n",
    "        look_in = look_in.difference(set(exclude))\n",
    "    d = Counter()\n",
    "    m = defaultdict(list)\n",
    "    for e in e_list:\n",
    "        t = tags(e, look_in)\n",
    "        if search is not None:\n",
    "            if not any([bool(re.search(search, k, flags=re.IGNORECASE)) for k in t]):\n",
    "                continue\n",
    "        for i in t:\n",
    "            d[i] += 1\n",
    "            m[i].append(e['entityId'])\n",
    "    return d, dict(m)\n",
    " "
   ]
  },
  {
   "cell_type": "code",
   "execution_count": 22,
   "metadata": {
    "collapsed": false
   },
   "outputs": [
    {
     "name": "stdout",
     "output_type": "stream",
     "text": [
      "\n",
      "EI (u):\n",
      "[(u'SpatialScope=GLO', 190), (u'Name=transport', 173), (u'IsicClass=Freight transport by road', 160), (u'Name=freight', 160), (u'Name=passenger car', 95), (u'IsicClass=Other passenger land transport', 95), (u'TechnologyLevel=Current', 91), (u'Name=market for transport', 82), (u'TechnologyLevel=Undefined', 82), (u'SpatialScope=RER', 65), (u'Name=lorry with refrigeration machine', 64), (u'Comment=internal combustion engine', 61), (u'Name=EURO3', 40), (u'Name=EURO5', 40), (u'Name=EURO4', 40), (u'Name=R134a refrigerant', 40), (u'Name=EURO 5', 33), (u'Name=3.5-7.5 ton', 32), (u'Name=EURO6', 32), (u'Name=carbon dioxide', 32), (u'Name=7.5-16 ton', 32), (u'Name=EURO 3', 31), (u'Name=EURO 4', 31), (u'TechnologyLevel=Modern', 30), (u'Name=medium size', 29), (u'TechnologyLevel=New', 28), (u'Name=large size', 27), (u'Name=natural gas', 27), (u'Name=small size', 27), (u'Name=diesel', 27), (u'Name=petrol', 26), (u'TechnologyLevel=Old', 24), (u'Name=cooling', 24), (u'Name=freezing', 24), (u'Comment=linking activity', 24), (u'Name=lorry 7.5-16 metric ton', 18), (u'Name=lorry >32 metric ton', 18), (u'Name=lorry 3.5-7.5 metric ton', 18), (u'Name=lorry 16-32 metric ton', 18), (u'Name=small lorry with refrigeration machine', 16), (u'Name=...', 16), (u'Name=liquid refrigerant', 16), (u'Comment=ConvertedDataset', 12)]\n",
      "\n",
      "ELCD:\n",
      "[]\n",
      "\n",
      "GaBi-Pro:\n",
      "[(u'Classifications=Processes', 81), (u'Classifications=Truck', 79), (u'Comment=driving share motorway', 76), (u'Classifications=Transport', 76), (u'SpatialScope=GLO', 76), (u'Comment=rural', 76), (u'Comment=utilisation [-]', 76), (u'Comment=payload [t]', 76), (u'Classifications=Road', 76), (u'Comment=status January 2010\\n- input parameter: distance [km]', 76), (u'Comment=driving share: HBEFA 3.1', 76), (u'Comment=urban\\n- average sulphur content: EU = 10 ppm', 68), (u'Comment=sulphur content diesel [ppm]', 58), (u'Name=Truck', 50), (u'Name=Truck-trailer', 20), (u'Comment=- source emissions', 12), (u'Comment=- average emission values Euro 3\\n- source emissions', 12), (u'Comment=- average emission values Euro 6 SCR', 12), (u'Comment=- average emission values Euro 1\\n- source emissions', 12), (u'Comment=- average emission values Euro 4\\n- source emissions', 12), (u'Comment=- average emission values Euro 2\\n- source emissions', 12), (u'Comment=non tampered', 12), (u'Comment=- average emission values Euro 5 SCR\\n- source emissions', 11)]\n",
      "\n",
      "GaBi-Ext:\n",
      "[(u'Classifications=Processes', 52), (u'Classifications=Truck', 48), (u'Comment=driving share motorway', 42), (u'Classifications=Transport', 42), (u'Comment=rural', 42), (u'Comment=utilisation [-]', 42), (u'Comment=payload [t]', 42), (u'Classifications=Road', 42), (u'Comment=sulphur content diesel [ppm]', 40), (u'Comment=04', 36), (u'SpatialScope=IN', 36), (u'Comment=CSIR - Central Road Research Institute New Dehli-25', 36), (u'Comment=2014\\n- input parameter: distance [km]', 36), (u'Comment=status January 2010\\n- Driving share: Fuel efficicency standards of heavy duty vehicles in India', 36), (u'Comment=urban\\n- average sulphur content: IN = 350 ppm', 35), (u'Name=Truck', 29), (u'Comment=- average emission values Bharat stage III considered as equal to Euro 3\\n- source emissions:  HBEFA 3.1', 12), (u'Comment=- average emission values Bharat stage IV considered as equal to Euro 4\\n- source emissions:  HBEFA 3.1', 12), (u'Comment=- average emission values Bharat stage II considered as equal to Euro 2\\n- source emissions:  HBEFA 3.1', 12)]\n",
      "\n",
      "US LCI:\n",
      "[]\n"
     ]
    }
   ],
   "source": [
    "for i, archive in enumerate(C):\n",
    "    \"\"\"\n",
    "    Search each catalog for processes containing the term 'EURO.?[0-9]' and print their most common tags \n",
    "    \"\"\"\n",
    "    print('\\n%s:' % names[i])\n",
    "    d0, m0 = count_tags(archive['processes'], search='EURO.?[0-9]', include=['TechnologyLevel', 'IsicClass'])\n",
    "    print([k for k in d0.most_common() if k[1] > 10])"
   ]
  },
  {
   "cell_type": "markdown",
   "metadata": {},
   "source": [
    "After that, it's just some formatting to get it into tabular form "
   ]
  }
 ],
 "metadata": {
  "kernelspec": {
   "display_name": "Python 2",
   "language": "python",
   "name": "python2"
  },
  "language_info": {
   "codemirror_mode": {
    "name": "ipython",
    "version": 2
   },
   "file_extension": ".py",
   "mimetype": "text/x-python",
   "name": "python",
   "nbconvert_exporter": "python",
   "pygments_lexer": "ipython2",
   "version": "2.7.10"
  }
 },
 "nbformat": 4,
 "nbformat_minor": 0
}
