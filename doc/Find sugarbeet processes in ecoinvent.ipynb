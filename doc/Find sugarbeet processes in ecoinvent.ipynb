{
 "cells": [
  {
   "cell_type": "markdown",
   "metadata": {},
   "source": [
    "The object of this exercise is to find the UUIDs for processes dealing with sugar beet production.\n",
    "\n",
    "The plan is:\n",
    " 1. find flows that deal with 'beets'\n",
    " 2. collect processes mentioned in exchanges that involve those flows\n"
   ]
  },
  {
   "cell_type": "code",
   "execution_count": 1,
   "metadata": {
    "collapsed": true
   },
   "outputs": [],
   "source": [
    "import json\n",
    "import re"
   ]
  },
  {
   "cell_type": "code",
   "execution_count": 2,
   "metadata": {
    "collapsed": true
   },
   "outputs": [],
   "source": [
    "with open('../catalogs/json/ecoinvent_3.2_undefined_xlsx.json') as fp:\n",
    "    ei32 = json.load(fp)"
   ]
  },
  {
   "cell_type": "code",
   "execution_count": 3,
   "metadata": {
    "collapsed": true
   },
   "outputs": [],
   "source": [
    "def search_tags(entity, search):\n",
    "    \"\"\"\n",
    "    This function searches through all the 'tags' (semantic content) of a data set\n",
    "    and returns 'true' if the search expression is found. case insensitive.\n",
    "    \"\"\"\n",
    "    all_tags = '; '.join([str(x) for x in entity['tags'].values()])\n",
    "    return bool(re.search(search, all_tags, flags=re.IGNORECASE))"
   ]
  },
  {
   "cell_type": "code",
   "execution_count": 4,
   "metadata": {
    "collapsed": true
   },
   "outputs": [],
   "source": [
    "beets = [flow for flow in ei32['flows'] if search_tags(flow,'beet')]"
   ]
  },
  {
   "cell_type": "code",
   "execution_count": 5,
   "metadata": {
    "collapsed": false
   },
   "outputs": [
    {
     "data": {
      "text/plain": [
       "11"
      ]
     },
     "execution_count": 5,
     "metadata": {},
     "output_type": "execute_result"
    }
   ],
   "source": [
    "len(beets)"
   ]
  },
  {
   "cell_type": "markdown",
   "metadata": {},
   "source": [
    "11 beet-related flows"
   ]
  },
  {
   "cell_type": "code",
   "execution_count": 6,
   "metadata": {
    "collapsed": false
   },
   "outputs": [
    {
     "data": {
      "text/plain": [
       "['sugar beet pulp',\n",
       " 'sugar beet seed, for sowing',\n",
       " 'molasses, from sugar beet',\n",
       " 'harvesting, by complete harvester, beets',\n",
       " 'fodder beet, Swiss integrated production',\n",
       " 'sugar beet',\n",
       " 'sugar, from sugar beet',\n",
       " 'vinasse, from fermentation of sugar beet molasses',\n",
       " 'vinasse, from fermentation of sugar beet',\n",
       " 'fodder beet seed, for sowing',\n",
       " 'beet seed, Swiss integrated production, for sowing']"
      ]
     },
     "execution_count": 6,
     "metadata": {},
     "output_type": "execute_result"
    }
   ],
   "source": [
    "[b['tags']['Name'] for b in beets]"
   ]
  },
  {
   "cell_type": "code",
   "execution_count": 7,
   "metadata": {
    "collapsed": false
   },
   "outputs": [],
   "source": [
    "beet_processes = [x['process'] for x in ei32['exchanges'] if x['flow'] in beets]"
   ]
  },
  {
   "cell_type": "code",
   "execution_count": 8,
   "metadata": {
    "collapsed": false
   },
   "outputs": [
    {
     "data": {
      "text/plain": [
       "0"
      ]
     },
     "execution_count": 8,
     "metadata": {},
     "output_type": "execute_result"
    }
   ],
   "source": [
    "len(beet_processes)"
   ]
  },
  {
   "cell_type": "markdown",
   "metadata": {},
   "source": [
    "that didn't work... it's because 'beets' is a list of flow objects, but `exchange` entries only list **references** to flow objects"
   ]
  },
  {
   "cell_type": "code",
   "execution_count": 9,
   "metadata": {
    "collapsed": true
   },
   "outputs": [],
   "source": [
    "beet_refs = [b['dataSetReference'] for b in beets]"
   ]
  },
  {
   "cell_type": "code",
   "execution_count": 10,
   "metadata": {
    "collapsed": true
   },
   "outputs": [],
   "source": [
    "beet_processes = [x['process'] for x in ei32['exchanges'] if x['flow'] in beet_refs]"
   ]
  },
  {
   "cell_type": "code",
   "execution_count": 11,
   "metadata": {
    "collapsed": false
   },
   "outputs": [
    {
     "data": {
      "text/plain": [
       "37"
      ]
     },
     "execution_count": 11,
     "metadata": {},
     "output_type": "execute_result"
    }
   ],
   "source": [
    "len(beet_processes)"
   ]
  },
  {
   "cell_type": "markdown",
   "metadata": {},
   "source": [
    "This can include duplicates... `set` forces the entries to be unique (set members)"
   ]
  },
  {
   "cell_type": "code",
   "execution_count": 12,
   "metadata": {
    "collapsed": false
   },
   "outputs": [
    {
     "data": {
      "text/plain": [
       "31"
      ]
     },
     "execution_count": 12,
     "metadata": {},
     "output_type": "execute_result"
    }
   ],
   "source": [
    "len(set(beet_processes))"
   ]
  },
  {
   "cell_type": "code",
   "execution_count": 13,
   "metadata": {
    "collapsed": false
   },
   "outputs": [
    {
     "data": {
      "text/plain": [
       "[{'ReferenceExchange': 'Output: fodder beet, Swiss integrated production',\n",
       "  'dataSetReference': 'ff4e58d3-09d7-40ac-9f3c-eabaa88af152',\n",
       "  'entityType': 'process',\n",
       "  'tags': {'Comment': '',\n",
       "   'IsicClass': 'Growing of other non-perennial crops',\n",
       "   'IsicNumber': '0119',\n",
       "   'Name': 'fodder beet production, Swiss integrated production, intensive',\n",
       "   'SpatialScope': 'CH',\n",
       "   'TechnologyLevel': 'Current',\n",
       "   'TemporalScope': 'interval(1996-01-01, 2003-12-31)'}}]"
      ]
     },
     "execution_count": 13,
     "metadata": {},
     "output_type": "execute_result"
    }
   ],
   "source": [
    "[p for p in ei32['processes'] if p['dataSetReference'] == beet_processes[0]]"
   ]
  },
  {
   "cell_type": "markdown",
   "metadata": {},
   "source": [
    "use `pandas` to print the processes as a table"
   ]
  },
  {
   "cell_type": "code",
   "execution_count": 14,
   "metadata": {
    "collapsed": true
   },
   "outputs": [],
   "source": [
    "import pandas as pd"
   ]
  },
  {
   "cell_type": "code",
   "execution_count": 15,
   "metadata": {
    "collapsed": true
   },
   "outputs": [],
   "source": [
    "p_list = [p for p in ei32['processes'] if p['dataSetReference'] in set(beet_processes)]"
   ]
  },
  {
   "cell_type": "markdown",
   "metadata": {},
   "source": [
    "`p_list` is a list of full process records -- we want to view all the semantic content of these records -- all the tags"
   ]
  },
  {
   "cell_type": "code",
   "execution_count": 16,
   "metadata": {
    "collapsed": false
   },
   "outputs": [],
   "source": [
    "P = pd.DataFrame([p['tags'] for p in p_list], \n",
    "                 index=[p['dataSetReference'] for p in p_list])"
   ]
  },
  {
   "cell_type": "code",
   "execution_count": 17,
   "metadata": {
    "collapsed": false
   },
   "outputs": [
    {
     "data": {
      "text/html": [
       "<div>\n",
       "<table border=\"1\" class=\"dataframe\">\n",
       "  <thead>\n",
       "    <tr style=\"text-align: right;\">\n",
       "      <th></th>\n",
       "      <th>Comment</th>\n",
       "      <th>IsicClass</th>\n",
       "      <th>IsicNumber</th>\n",
       "      <th>Name</th>\n",
       "      <th>SpatialScope</th>\n",
       "      <th>TechnologyLevel</th>\n",
       "      <th>TemporalScope</th>\n",
       "    </tr>\n",
       "  </thead>\n",
       "  <tbody>\n",
       "    <tr>\n",
       "      <th>bbc75ebc-3664-40b2-890d-e6b2f97a2e84</th>\n",
       "      <td>ConvertedDataset</td>\n",
       "      <td>Growing of other non-perennial crops</td>\n",
       "      <td>0119</td>\n",
       "      <td>market for fodder beet, Swiss integrated produ...</td>\n",
       "      <td>GLO</td>\n",
       "      <td>Undefined</td>\n",
       "      <td>interval(2011-01-01, 2011-12-31)</td>\n",
       "    </tr>\n",
       "    <tr>\n",
       "      <th>70335b84-9b7e-4d29-9c76-88313377201a</th>\n",
       "      <td>ConvertedDataset</td>\n",
       "      <td>Liquid and gaseous fuels from biomass</td>\n",
       "      <td>19a</td>\n",
       "      <td>ethanol production from sugar beet molasses</td>\n",
       "      <td>GLO</td>\n",
       "      <td>Current</td>\n",
       "      <td>interval(1998-01-01, 2006-12-31)</td>\n",
       "    </tr>\n",
       "    <tr>\n",
       "      <th>c866a283-dc26-4703-9d31-4297730cf49d</th>\n",
       "      <td></td>\n",
       "      <td>Manufacture of prepared animal feeds</td>\n",
       "      <td>108</td>\n",
       "      <td>market for sugar beet pulp</td>\n",
       "      <td>GLO</td>\n",
       "      <td>Undefined</td>\n",
       "      <td>interval(2012-01-01, 2012-12-31)</td>\n",
       "    </tr>\n",
       "    <tr>\n",
       "      <th>801d7ce1-70b3-43ec-a64f-7c5890847854</th>\n",
       "      <td></td>\n",
       "      <td>Seed processing for propagation</td>\n",
       "      <td>0164</td>\n",
       "      <td>market for sugar beet seed, for sowing</td>\n",
       "      <td>GLO</td>\n",
       "      <td>Undefined</td>\n",
       "      <td>interval(1999-01-01, 2002-12-31)</td>\n",
       "    </tr>\n",
       "    <tr>\n",
       "      <th>5f176014-6fc0-4dd6-8c39-06128ab92b0a</th>\n",
       "      <td></td>\n",
       "      <td>Seed processing for propagation</td>\n",
       "      <td>0164</td>\n",
       "      <td>market for fodder beet seed, for sowing</td>\n",
       "      <td>GLO</td>\n",
       "      <td>Undefined</td>\n",
       "      <td>interval(1999-01-01, 2002-12-31)</td>\n",
       "    </tr>\n",
       "    <tr>\n",
       "      <th>e26685b8-4a2b-40a9-8402-fb96b2e76983</th>\n",
       "      <td></td>\n",
       "      <td>Manufacture of prepared animal feeds</td>\n",
       "      <td>108</td>\n",
       "      <td>molasses, from sugar beet, to generic market f...</td>\n",
       "      <td>GLO</td>\n",
       "      <td>Current</td>\n",
       "      <td>interval(2012-01-01, 2012-12-31)</td>\n",
       "    </tr>\n",
       "    <tr>\n",
       "      <th>19a6cf49-7787-4a6f-b04e-4604fcd65bec</th>\n",
       "      <td>ConvertedDataset</td>\n",
       "      <td>Manufacture of sugar</td>\n",
       "      <td>1072</td>\n",
       "      <td>beet sugar production</td>\n",
       "      <td>CH</td>\n",
       "      <td>Current</td>\n",
       "      <td>interval(1998-01-01, 2006-12-31)</td>\n",
       "    </tr>\n",
       "    <tr>\n",
       "      <th>5bf47e7e-97f1-42d8-b965-e3216d3c0808</th>\n",
       "      <td>ConvertedDataset</td>\n",
       "      <td>Manufacture of sugar</td>\n",
       "      <td>1072</td>\n",
       "      <td>market for molasses, from sugar beet</td>\n",
       "      <td>GLO</td>\n",
       "      <td>Undefined</td>\n",
       "      <td>interval(2011-01-01, 2011-12-31)</td>\n",
       "    </tr>\n",
       "    <tr>\n",
       "      <th>28d7d0bb-a809-4d52-b758-375f6cd1b944</th>\n",
       "      <td>ConvertedDataset</td>\n",
       "      <td>Liquid and gaseous fuels from biomass</td>\n",
       "      <td>19a</td>\n",
       "      <td>ethanol production from sugar beet</td>\n",
       "      <td>CH</td>\n",
       "      <td>Current</td>\n",
       "      <td>interval(2000-01-01, 2004-12-31)</td>\n",
       "    </tr>\n",
       "    <tr>\n",
       "      <th>dce659f0-67c0-4912-91dd-7efdd27bde8b</th>\n",
       "      <td>ConvertedDataset</td>\n",
       "      <td>Support activities for crop production</td>\n",
       "      <td>0161</td>\n",
       "      <td>harvesting, by complete harvester, beets</td>\n",
       "      <td>CH</td>\n",
       "      <td>Current</td>\n",
       "      <td>interval(1991-01-01, 2002-12-31)</td>\n",
       "    </tr>\n",
       "    <tr>\n",
       "      <th>897f2d08-936b-4aed-928b-a50dfdfdd802</th>\n",
       "      <td>ConvertedDataset</td>\n",
       "      <td>Manufacture of sugar</td>\n",
       "      <td>1072</td>\n",
       "      <td>market for sugar, from sugar beet</td>\n",
       "      <td>GLO</td>\n",
       "      <td>Undefined</td>\n",
       "      <td>interval(2011-01-01, 2011-12-31)</td>\n",
       "    </tr>\n",
       "    <tr>\n",
       "      <th>b5b30609-5bcb-4e5b-8dd2-49fe6ef41612</th>\n",
       "      <td>ConvertedDataset</td>\n",
       "      <td>Liquid and gaseous fuels from biomass</td>\n",
       "      <td>19a</td>\n",
       "      <td>ethanol production from sugar beet</td>\n",
       "      <td>GLO</td>\n",
       "      <td>Current</td>\n",
       "      <td>interval(2000-01-01, 2004-12-31)</td>\n",
       "    </tr>\n",
       "    <tr>\n",
       "      <th>da4313db-4cc3-45d1-9885-1075d59e8944</th>\n",
       "      <td></td>\n",
       "      <td>Support activities for crop production</td>\n",
       "      <td>0161</td>\n",
       "      <td>market for vinasse, from fermentation of sugar...</td>\n",
       "      <td>GLO</td>\n",
       "      <td>Undefined</td>\n",
       "      <td>interval(2012-01-01, 2012-12-31)</td>\n",
       "    </tr>\n",
       "    <tr>\n",
       "      <th>2d2c62cf-048d-4637-b065-fb638366edb7</th>\n",
       "      <td></td>\n",
       "      <td>Support activities for crop production</td>\n",
       "      <td>0161</td>\n",
       "      <td>field application of vinasse, from fermentatio...</td>\n",
       "      <td>GLO</td>\n",
       "      <td>Current</td>\n",
       "      <td>interval(2000-01-01, 2004-12-31)</td>\n",
       "    </tr>\n",
       "    <tr>\n",
       "      <th>33693c3c-c4da-4730-b5e8-adf8f9d60390</th>\n",
       "      <td></td>\n",
       "      <td>Growing of other non-perennial crops</td>\n",
       "      <td>0119</td>\n",
       "      <td>fodder beet production, Swiss integrated produ...</td>\n",
       "      <td>GLO</td>\n",
       "      <td>Current</td>\n",
       "      <td>interval(1996-01-01, 2003-12-31)</td>\n",
       "    </tr>\n",
       "    <tr>\n",
       "      <th>d10548bb-9286-4d64-96ab-fbef14c757de</th>\n",
       "      <td>ConvertedDataset</td>\n",
       "      <td>Seed processing for propagation</td>\n",
       "      <td>0164</td>\n",
       "      <td>beet seed production, Swiss integrated product...</td>\n",
       "      <td>GLO</td>\n",
       "      <td>Current</td>\n",
       "      <td>interval(1999-01-01, 2002-12-31)</td>\n",
       "    </tr>\n",
       "    <tr>\n",
       "      <th>2539fa06-23e8-4df1-9a03-635d3ba0545d</th>\n",
       "      <td></td>\n",
       "      <td>Support activities for crop production</td>\n",
       "      <td>0161</td>\n",
       "      <td>field application of vinasse, from fermentatio...</td>\n",
       "      <td>GLO</td>\n",
       "      <td>Current</td>\n",
       "      <td>interval(1998-01-01, 2006-12-31)</td>\n",
       "    </tr>\n",
       "    <tr>\n",
       "      <th>ae37dbb4-01f2-4ed3-b6fd-94a2addc29c1</th>\n",
       "      <td>ConvertedDataset</td>\n",
       "      <td>Support activities for crop production</td>\n",
       "      <td>0161</td>\n",
       "      <td>harvesting, by complete harvester, beets</td>\n",
       "      <td>GLO</td>\n",
       "      <td>Current</td>\n",
       "      <td>interval(1991-01-01, 2002-12-31)</td>\n",
       "    </tr>\n",
       "    <tr>\n",
       "      <th>431297af-53f7-46ac-9496-0df5deb29c67</th>\n",
       "      <td></td>\n",
       "      <td>Manufacture of prepared animal feeds</td>\n",
       "      <td>108</td>\n",
       "      <td>sugar beet pulp to generic market for energy feed</td>\n",
       "      <td>GLO</td>\n",
       "      <td>Current</td>\n",
       "      <td>interval(2012-01-01, 2012-12-31)</td>\n",
       "    </tr>\n",
       "    <tr>\n",
       "      <th>6fe09e9e-9c61-460a-aec8-aa8c15f84823</th>\n",
       "      <td>ConvertedDataset</td>\n",
       "      <td>Growing of cereals (except rice), leguminous c...</td>\n",
       "      <td>0111</td>\n",
       "      <td>market for sugar beet</td>\n",
       "      <td>GLO</td>\n",
       "      <td>Undefined</td>\n",
       "      <td>interval(2011-01-01, 2011-12-31)</td>\n",
       "    </tr>\n",
       "    <tr>\n",
       "      <th>2d7074fc-a917-4c55-aa19-a3e2d8b76b32</th>\n",
       "      <td></td>\n",
       "      <td>Support activities for crop production</td>\n",
       "      <td>0161</td>\n",
       "      <td>market for vinasse, from fermentation of sugar...</td>\n",
       "      <td>GLO</td>\n",
       "      <td>Undefined</td>\n",
       "      <td>interval(2012-01-01, 2012-12-31)</td>\n",
       "    </tr>\n",
       "    <tr>\n",
       "      <th>64d4ecd3-42ad-470a-845a-7917b060250a</th>\n",
       "      <td>ConvertedDataset</td>\n",
       "      <td>Seed processing for propagation</td>\n",
       "      <td>0164</td>\n",
       "      <td>beet seed production, Swiss integrated product...</td>\n",
       "      <td>CH</td>\n",
       "      <td>Current</td>\n",
       "      <td>interval(1999-01-01, 2002-12-31)</td>\n",
       "    </tr>\n",
       "    <tr>\n",
       "      <th>29106945-7f81-486a-a758-3c6edfc516fa</th>\n",
       "      <td>ConvertedDataset</td>\n",
       "      <td>Support activities for crop production</td>\n",
       "      <td>0161</td>\n",
       "      <td>market for harvesting, by complete harvester, ...</td>\n",
       "      <td>GLO</td>\n",
       "      <td>Undefined</td>\n",
       "      <td>interval(2011-01-01, 2011-12-31)</td>\n",
       "    </tr>\n",
       "    <tr>\n",
       "      <th>b44e89fd-1b6e-472f-b52d-21f0574d2e95</th>\n",
       "      <td>ConvertedDataset</td>\n",
       "      <td>Seed processing for propagation</td>\n",
       "      <td>0164</td>\n",
       "      <td>fodder beet seed production, for sowing</td>\n",
       "      <td>GLO</td>\n",
       "      <td>Current</td>\n",
       "      <td>interval(1999-01-01, 2002-12-31)</td>\n",
       "    </tr>\n",
       "    <tr>\n",
       "      <th>58873ecd-5b8b-4c3c-b2ee-a4c5178b0c3d</th>\n",
       "      <td></td>\n",
       "      <td>Growing of cereals (except rice), leguminous c...</td>\n",
       "      <td>0111</td>\n",
       "      <td>sugar beet production</td>\n",
       "      <td>GLO</td>\n",
       "      <td>Current</td>\n",
       "      <td>interval(1996-01-01, 2003-12-31)</td>\n",
       "    </tr>\n",
       "    <tr>\n",
       "      <th>1e4a77d8-ba2e-4292-a904-db1a3861df4a</th>\n",
       "      <td>ConvertedDataset</td>\n",
       "      <td>Seed processing for propagation</td>\n",
       "      <td>0164</td>\n",
       "      <td>sugar beet seed production, for sowing</td>\n",
       "      <td>GLO</td>\n",
       "      <td>Current</td>\n",
       "      <td>interval(1999-01-01, 2002-12-31)</td>\n",
       "    </tr>\n",
       "    <tr>\n",
       "      <th>ff4e58d3-09d7-40ac-9f3c-eabaa88af152</th>\n",
       "      <td></td>\n",
       "      <td>Growing of other non-perennial crops</td>\n",
       "      <td>0119</td>\n",
       "      <td>fodder beet production, Swiss integrated produ...</td>\n",
       "      <td>CH</td>\n",
       "      <td>Current</td>\n",
       "      <td>interval(1996-01-01, 2003-12-31)</td>\n",
       "    </tr>\n",
       "    <tr>\n",
       "      <th>96760a85-07a2-41ae-aa58-e6ea0842ea96</th>\n",
       "      <td></td>\n",
       "      <td>Growing of cereals (except rice), leguminous c...</td>\n",
       "      <td>0111</td>\n",
       "      <td>sugar beet production</td>\n",
       "      <td>CH</td>\n",
       "      <td>Current</td>\n",
       "      <td>interval(1996-01-01, 2003-12-31)</td>\n",
       "    </tr>\n",
       "    <tr>\n",
       "      <th>33031c6f-9a2b-4a53-badd-44ddbc1a2588</th>\n",
       "      <td>ConvertedDataset</td>\n",
       "      <td>Seed processing for propagation</td>\n",
       "      <td>0164</td>\n",
       "      <td>market for beet seed, Swiss integrated product...</td>\n",
       "      <td>GLO</td>\n",
       "      <td>Undefined</td>\n",
       "      <td>interval(2011-01-01, 2011-12-31)</td>\n",
       "    </tr>\n",
       "    <tr>\n",
       "      <th>df3186af-bf58-4a1e-b27f-854ede231863</th>\n",
       "      <td>ConvertedDataset</td>\n",
       "      <td>Manufacture of sugar</td>\n",
       "      <td>1072</td>\n",
       "      <td>beet sugar production</td>\n",
       "      <td>GLO</td>\n",
       "      <td>Current</td>\n",
       "      <td>interval(1998-01-01, 2006-12-31)</td>\n",
       "    </tr>\n",
       "    <tr>\n",
       "      <th>2464cefd-74c2-4446-81c2-f486e7cdda89</th>\n",
       "      <td>ConvertedDataset</td>\n",
       "      <td>Liquid and gaseous fuels from biomass</td>\n",
       "      <td>19a</td>\n",
       "      <td>ethanol production from sugar beet molasses</td>\n",
       "      <td>CH</td>\n",
       "      <td>Current</td>\n",
       "      <td>interval(1998-01-01, 2006-12-31)</td>\n",
       "    </tr>\n",
       "  </tbody>\n",
       "</table>\n",
       "</div>"
      ],
      "text/plain": [
       "                                               Comment  \\\n",
       "bbc75ebc-3664-40b2-890d-e6b2f97a2e84  ConvertedDataset   \n",
       "70335b84-9b7e-4d29-9c76-88313377201a  ConvertedDataset   \n",
       "c866a283-dc26-4703-9d31-4297730cf49d                     \n",
       "801d7ce1-70b3-43ec-a64f-7c5890847854                     \n",
       "5f176014-6fc0-4dd6-8c39-06128ab92b0a                     \n",
       "e26685b8-4a2b-40a9-8402-fb96b2e76983                     \n",
       "19a6cf49-7787-4a6f-b04e-4604fcd65bec  ConvertedDataset   \n",
       "5bf47e7e-97f1-42d8-b965-e3216d3c0808  ConvertedDataset   \n",
       "28d7d0bb-a809-4d52-b758-375f6cd1b944  ConvertedDataset   \n",
       "dce659f0-67c0-4912-91dd-7efdd27bde8b  ConvertedDataset   \n",
       "897f2d08-936b-4aed-928b-a50dfdfdd802  ConvertedDataset   \n",
       "b5b30609-5bcb-4e5b-8dd2-49fe6ef41612  ConvertedDataset   \n",
       "da4313db-4cc3-45d1-9885-1075d59e8944                     \n",
       "2d2c62cf-048d-4637-b065-fb638366edb7                     \n",
       "33693c3c-c4da-4730-b5e8-adf8f9d60390                     \n",
       "d10548bb-9286-4d64-96ab-fbef14c757de  ConvertedDataset   \n",
       "2539fa06-23e8-4df1-9a03-635d3ba0545d                     \n",
       "ae37dbb4-01f2-4ed3-b6fd-94a2addc29c1  ConvertedDataset   \n",
       "431297af-53f7-46ac-9496-0df5deb29c67                     \n",
       "6fe09e9e-9c61-460a-aec8-aa8c15f84823  ConvertedDataset   \n",
       "2d7074fc-a917-4c55-aa19-a3e2d8b76b32                     \n",
       "64d4ecd3-42ad-470a-845a-7917b060250a  ConvertedDataset   \n",
       "29106945-7f81-486a-a758-3c6edfc516fa  ConvertedDataset   \n",
       "b44e89fd-1b6e-472f-b52d-21f0574d2e95  ConvertedDataset   \n",
       "58873ecd-5b8b-4c3c-b2ee-a4c5178b0c3d                     \n",
       "1e4a77d8-ba2e-4292-a904-db1a3861df4a  ConvertedDataset   \n",
       "ff4e58d3-09d7-40ac-9f3c-eabaa88af152                     \n",
       "96760a85-07a2-41ae-aa58-e6ea0842ea96                     \n",
       "33031c6f-9a2b-4a53-badd-44ddbc1a2588  ConvertedDataset   \n",
       "df3186af-bf58-4a1e-b27f-854ede231863  ConvertedDataset   \n",
       "2464cefd-74c2-4446-81c2-f486e7cdda89  ConvertedDataset   \n",
       "\n",
       "                                                                              IsicClass  \\\n",
       "bbc75ebc-3664-40b2-890d-e6b2f97a2e84               Growing of other non-perennial crops   \n",
       "70335b84-9b7e-4d29-9c76-88313377201a              Liquid and gaseous fuels from biomass   \n",
       "c866a283-dc26-4703-9d31-4297730cf49d               Manufacture of prepared animal feeds   \n",
       "801d7ce1-70b3-43ec-a64f-7c5890847854                    Seed processing for propagation   \n",
       "5f176014-6fc0-4dd6-8c39-06128ab92b0a                    Seed processing for propagation   \n",
       "e26685b8-4a2b-40a9-8402-fb96b2e76983               Manufacture of prepared animal feeds   \n",
       "19a6cf49-7787-4a6f-b04e-4604fcd65bec                               Manufacture of sugar   \n",
       "5bf47e7e-97f1-42d8-b965-e3216d3c0808                               Manufacture of sugar   \n",
       "28d7d0bb-a809-4d52-b758-375f6cd1b944              Liquid and gaseous fuels from biomass   \n",
       "dce659f0-67c0-4912-91dd-7efdd27bde8b             Support activities for crop production   \n",
       "897f2d08-936b-4aed-928b-a50dfdfdd802                               Manufacture of sugar   \n",
       "b5b30609-5bcb-4e5b-8dd2-49fe6ef41612              Liquid and gaseous fuels from biomass   \n",
       "da4313db-4cc3-45d1-9885-1075d59e8944             Support activities for crop production   \n",
       "2d2c62cf-048d-4637-b065-fb638366edb7             Support activities for crop production   \n",
       "33693c3c-c4da-4730-b5e8-adf8f9d60390               Growing of other non-perennial crops   \n",
       "d10548bb-9286-4d64-96ab-fbef14c757de                    Seed processing for propagation   \n",
       "2539fa06-23e8-4df1-9a03-635d3ba0545d             Support activities for crop production   \n",
       "ae37dbb4-01f2-4ed3-b6fd-94a2addc29c1             Support activities for crop production   \n",
       "431297af-53f7-46ac-9496-0df5deb29c67               Manufacture of prepared animal feeds   \n",
       "6fe09e9e-9c61-460a-aec8-aa8c15f84823  Growing of cereals (except rice), leguminous c...   \n",
       "2d7074fc-a917-4c55-aa19-a3e2d8b76b32             Support activities for crop production   \n",
       "64d4ecd3-42ad-470a-845a-7917b060250a                    Seed processing for propagation   \n",
       "29106945-7f81-486a-a758-3c6edfc516fa             Support activities for crop production   \n",
       "b44e89fd-1b6e-472f-b52d-21f0574d2e95                    Seed processing for propagation   \n",
       "58873ecd-5b8b-4c3c-b2ee-a4c5178b0c3d  Growing of cereals (except rice), leguminous c...   \n",
       "1e4a77d8-ba2e-4292-a904-db1a3861df4a                    Seed processing for propagation   \n",
       "ff4e58d3-09d7-40ac-9f3c-eabaa88af152               Growing of other non-perennial crops   \n",
       "96760a85-07a2-41ae-aa58-e6ea0842ea96  Growing of cereals (except rice), leguminous c...   \n",
       "33031c6f-9a2b-4a53-badd-44ddbc1a2588                    Seed processing for propagation   \n",
       "df3186af-bf58-4a1e-b27f-854ede231863                               Manufacture of sugar   \n",
       "2464cefd-74c2-4446-81c2-f486e7cdda89              Liquid and gaseous fuels from biomass   \n",
       "\n",
       "                                     IsicNumber  \\\n",
       "bbc75ebc-3664-40b2-890d-e6b2f97a2e84       0119   \n",
       "70335b84-9b7e-4d29-9c76-88313377201a        19a   \n",
       "c866a283-dc26-4703-9d31-4297730cf49d        108   \n",
       "801d7ce1-70b3-43ec-a64f-7c5890847854       0164   \n",
       "5f176014-6fc0-4dd6-8c39-06128ab92b0a       0164   \n",
       "e26685b8-4a2b-40a9-8402-fb96b2e76983        108   \n",
       "19a6cf49-7787-4a6f-b04e-4604fcd65bec       1072   \n",
       "5bf47e7e-97f1-42d8-b965-e3216d3c0808       1072   \n",
       "28d7d0bb-a809-4d52-b758-375f6cd1b944        19a   \n",
       "dce659f0-67c0-4912-91dd-7efdd27bde8b       0161   \n",
       "897f2d08-936b-4aed-928b-a50dfdfdd802       1072   \n",
       "b5b30609-5bcb-4e5b-8dd2-49fe6ef41612        19a   \n",
       "da4313db-4cc3-45d1-9885-1075d59e8944       0161   \n",
       "2d2c62cf-048d-4637-b065-fb638366edb7       0161   \n",
       "33693c3c-c4da-4730-b5e8-adf8f9d60390       0119   \n",
       "d10548bb-9286-4d64-96ab-fbef14c757de       0164   \n",
       "2539fa06-23e8-4df1-9a03-635d3ba0545d       0161   \n",
       "ae37dbb4-01f2-4ed3-b6fd-94a2addc29c1       0161   \n",
       "431297af-53f7-46ac-9496-0df5deb29c67        108   \n",
       "6fe09e9e-9c61-460a-aec8-aa8c15f84823       0111   \n",
       "2d7074fc-a917-4c55-aa19-a3e2d8b76b32       0161   \n",
       "64d4ecd3-42ad-470a-845a-7917b060250a       0164   \n",
       "29106945-7f81-486a-a758-3c6edfc516fa       0161   \n",
       "b44e89fd-1b6e-472f-b52d-21f0574d2e95       0164   \n",
       "58873ecd-5b8b-4c3c-b2ee-a4c5178b0c3d       0111   \n",
       "1e4a77d8-ba2e-4292-a904-db1a3861df4a       0164   \n",
       "ff4e58d3-09d7-40ac-9f3c-eabaa88af152       0119   \n",
       "96760a85-07a2-41ae-aa58-e6ea0842ea96       0111   \n",
       "33031c6f-9a2b-4a53-badd-44ddbc1a2588       0164   \n",
       "df3186af-bf58-4a1e-b27f-854ede231863       1072   \n",
       "2464cefd-74c2-4446-81c2-f486e7cdda89        19a   \n",
       "\n",
       "                                                                                   Name  \\\n",
       "bbc75ebc-3664-40b2-890d-e6b2f97a2e84  market for fodder beet, Swiss integrated produ...   \n",
       "70335b84-9b7e-4d29-9c76-88313377201a        ethanol production from sugar beet molasses   \n",
       "c866a283-dc26-4703-9d31-4297730cf49d                         market for sugar beet pulp   \n",
       "801d7ce1-70b3-43ec-a64f-7c5890847854             market for sugar beet seed, for sowing   \n",
       "5f176014-6fc0-4dd6-8c39-06128ab92b0a            market for fodder beet seed, for sowing   \n",
       "e26685b8-4a2b-40a9-8402-fb96b2e76983  molasses, from sugar beet, to generic market f...   \n",
       "19a6cf49-7787-4a6f-b04e-4604fcd65bec                              beet sugar production   \n",
       "5bf47e7e-97f1-42d8-b965-e3216d3c0808               market for molasses, from sugar beet   \n",
       "28d7d0bb-a809-4d52-b758-375f6cd1b944                 ethanol production from sugar beet   \n",
       "dce659f0-67c0-4912-91dd-7efdd27bde8b           harvesting, by complete harvester, beets   \n",
       "897f2d08-936b-4aed-928b-a50dfdfdd802                  market for sugar, from sugar beet   \n",
       "b5b30609-5bcb-4e5b-8dd2-49fe6ef41612                 ethanol production from sugar beet   \n",
       "da4313db-4cc3-45d1-9885-1075d59e8944  market for vinasse, from fermentation of sugar...   \n",
       "2d2c62cf-048d-4637-b065-fb638366edb7  field application of vinasse, from fermentatio...   \n",
       "33693c3c-c4da-4730-b5e8-adf8f9d60390  fodder beet production, Swiss integrated produ...   \n",
       "d10548bb-9286-4d64-96ab-fbef14c757de  beet seed production, Swiss integrated product...   \n",
       "2539fa06-23e8-4df1-9a03-635d3ba0545d  field application of vinasse, from fermentatio...   \n",
       "ae37dbb4-01f2-4ed3-b6fd-94a2addc29c1           harvesting, by complete harvester, beets   \n",
       "431297af-53f7-46ac-9496-0df5deb29c67  sugar beet pulp to generic market for energy feed   \n",
       "6fe09e9e-9c61-460a-aec8-aa8c15f84823                              market for sugar beet   \n",
       "2d7074fc-a917-4c55-aa19-a3e2d8b76b32  market for vinasse, from fermentation of sugar...   \n",
       "64d4ecd3-42ad-470a-845a-7917b060250a  beet seed production, Swiss integrated product...   \n",
       "29106945-7f81-486a-a758-3c6edfc516fa  market for harvesting, by complete harvester, ...   \n",
       "b44e89fd-1b6e-472f-b52d-21f0574d2e95            fodder beet seed production, for sowing   \n",
       "58873ecd-5b8b-4c3c-b2ee-a4c5178b0c3d                              sugar beet production   \n",
       "1e4a77d8-ba2e-4292-a904-db1a3861df4a             sugar beet seed production, for sowing   \n",
       "ff4e58d3-09d7-40ac-9f3c-eabaa88af152  fodder beet production, Swiss integrated produ...   \n",
       "96760a85-07a2-41ae-aa58-e6ea0842ea96                              sugar beet production   \n",
       "33031c6f-9a2b-4a53-badd-44ddbc1a2588  market for beet seed, Swiss integrated product...   \n",
       "df3186af-bf58-4a1e-b27f-854ede231863                              beet sugar production   \n",
       "2464cefd-74c2-4446-81c2-f486e7cdda89        ethanol production from sugar beet molasses   \n",
       "\n",
       "                                     SpatialScope TechnologyLevel  \\\n",
       "bbc75ebc-3664-40b2-890d-e6b2f97a2e84          GLO       Undefined   \n",
       "70335b84-9b7e-4d29-9c76-88313377201a          GLO         Current   \n",
       "c866a283-dc26-4703-9d31-4297730cf49d          GLO       Undefined   \n",
       "801d7ce1-70b3-43ec-a64f-7c5890847854          GLO       Undefined   \n",
       "5f176014-6fc0-4dd6-8c39-06128ab92b0a          GLO       Undefined   \n",
       "e26685b8-4a2b-40a9-8402-fb96b2e76983          GLO         Current   \n",
       "19a6cf49-7787-4a6f-b04e-4604fcd65bec           CH         Current   \n",
       "5bf47e7e-97f1-42d8-b965-e3216d3c0808          GLO       Undefined   \n",
       "28d7d0bb-a809-4d52-b758-375f6cd1b944           CH         Current   \n",
       "dce659f0-67c0-4912-91dd-7efdd27bde8b           CH         Current   \n",
       "897f2d08-936b-4aed-928b-a50dfdfdd802          GLO       Undefined   \n",
       "b5b30609-5bcb-4e5b-8dd2-49fe6ef41612          GLO         Current   \n",
       "da4313db-4cc3-45d1-9885-1075d59e8944          GLO       Undefined   \n",
       "2d2c62cf-048d-4637-b065-fb638366edb7          GLO         Current   \n",
       "33693c3c-c4da-4730-b5e8-adf8f9d60390          GLO         Current   \n",
       "d10548bb-9286-4d64-96ab-fbef14c757de          GLO         Current   \n",
       "2539fa06-23e8-4df1-9a03-635d3ba0545d          GLO         Current   \n",
       "ae37dbb4-01f2-4ed3-b6fd-94a2addc29c1          GLO         Current   \n",
       "431297af-53f7-46ac-9496-0df5deb29c67          GLO         Current   \n",
       "6fe09e9e-9c61-460a-aec8-aa8c15f84823          GLO       Undefined   \n",
       "2d7074fc-a917-4c55-aa19-a3e2d8b76b32          GLO       Undefined   \n",
       "64d4ecd3-42ad-470a-845a-7917b060250a           CH         Current   \n",
       "29106945-7f81-486a-a758-3c6edfc516fa          GLO       Undefined   \n",
       "b44e89fd-1b6e-472f-b52d-21f0574d2e95          GLO         Current   \n",
       "58873ecd-5b8b-4c3c-b2ee-a4c5178b0c3d          GLO         Current   \n",
       "1e4a77d8-ba2e-4292-a904-db1a3861df4a          GLO         Current   \n",
       "ff4e58d3-09d7-40ac-9f3c-eabaa88af152           CH         Current   \n",
       "96760a85-07a2-41ae-aa58-e6ea0842ea96           CH         Current   \n",
       "33031c6f-9a2b-4a53-badd-44ddbc1a2588          GLO       Undefined   \n",
       "df3186af-bf58-4a1e-b27f-854ede231863          GLO         Current   \n",
       "2464cefd-74c2-4446-81c2-f486e7cdda89           CH         Current   \n",
       "\n",
       "                                                         TemporalScope  \n",
       "bbc75ebc-3664-40b2-890d-e6b2f97a2e84  interval(2011-01-01, 2011-12-31)  \n",
       "70335b84-9b7e-4d29-9c76-88313377201a  interval(1998-01-01, 2006-12-31)  \n",
       "c866a283-dc26-4703-9d31-4297730cf49d  interval(2012-01-01, 2012-12-31)  \n",
       "801d7ce1-70b3-43ec-a64f-7c5890847854  interval(1999-01-01, 2002-12-31)  \n",
       "5f176014-6fc0-4dd6-8c39-06128ab92b0a  interval(1999-01-01, 2002-12-31)  \n",
       "e26685b8-4a2b-40a9-8402-fb96b2e76983  interval(2012-01-01, 2012-12-31)  \n",
       "19a6cf49-7787-4a6f-b04e-4604fcd65bec  interval(1998-01-01, 2006-12-31)  \n",
       "5bf47e7e-97f1-42d8-b965-e3216d3c0808  interval(2011-01-01, 2011-12-31)  \n",
       "28d7d0bb-a809-4d52-b758-375f6cd1b944  interval(2000-01-01, 2004-12-31)  \n",
       "dce659f0-67c0-4912-91dd-7efdd27bde8b  interval(1991-01-01, 2002-12-31)  \n",
       "897f2d08-936b-4aed-928b-a50dfdfdd802  interval(2011-01-01, 2011-12-31)  \n",
       "b5b30609-5bcb-4e5b-8dd2-49fe6ef41612  interval(2000-01-01, 2004-12-31)  \n",
       "da4313db-4cc3-45d1-9885-1075d59e8944  interval(2012-01-01, 2012-12-31)  \n",
       "2d2c62cf-048d-4637-b065-fb638366edb7  interval(2000-01-01, 2004-12-31)  \n",
       "33693c3c-c4da-4730-b5e8-adf8f9d60390  interval(1996-01-01, 2003-12-31)  \n",
       "d10548bb-9286-4d64-96ab-fbef14c757de  interval(1999-01-01, 2002-12-31)  \n",
       "2539fa06-23e8-4df1-9a03-635d3ba0545d  interval(1998-01-01, 2006-12-31)  \n",
       "ae37dbb4-01f2-4ed3-b6fd-94a2addc29c1  interval(1991-01-01, 2002-12-31)  \n",
       "431297af-53f7-46ac-9496-0df5deb29c67  interval(2012-01-01, 2012-12-31)  \n",
       "6fe09e9e-9c61-460a-aec8-aa8c15f84823  interval(2011-01-01, 2011-12-31)  \n",
       "2d7074fc-a917-4c55-aa19-a3e2d8b76b32  interval(2012-01-01, 2012-12-31)  \n",
       "64d4ecd3-42ad-470a-845a-7917b060250a  interval(1999-01-01, 2002-12-31)  \n",
       "29106945-7f81-486a-a758-3c6edfc516fa  interval(2011-01-01, 2011-12-31)  \n",
       "b44e89fd-1b6e-472f-b52d-21f0574d2e95  interval(1999-01-01, 2002-12-31)  \n",
       "58873ecd-5b8b-4c3c-b2ee-a4c5178b0c3d  interval(1996-01-01, 2003-12-31)  \n",
       "1e4a77d8-ba2e-4292-a904-db1a3861df4a  interval(1999-01-01, 2002-12-31)  \n",
       "ff4e58d3-09d7-40ac-9f3c-eabaa88af152  interval(1996-01-01, 2003-12-31)  \n",
       "96760a85-07a2-41ae-aa58-e6ea0842ea96  interval(1996-01-01, 2003-12-31)  \n",
       "33031c6f-9a2b-4a53-badd-44ddbc1a2588  interval(2011-01-01, 2011-12-31)  \n",
       "df3186af-bf58-4a1e-b27f-854ede231863  interval(1998-01-01, 2006-12-31)  \n",
       "2464cefd-74c2-4446-81c2-f486e7cdda89  interval(1998-01-01, 2006-12-31)  "
      ]
     },
     "execution_count": 17,
     "metadata": {},
     "output_type": "execute_result"
    }
   ],
   "source": [
    "P"
   ]
  },
  {
   "cell_type": "markdown",
   "metadata": {},
   "source": [
    "Write this info to a CSV file in the current directory"
   ]
  },
  {
   "cell_type": "code",
   "execution_count": 18,
   "metadata": {
    "collapsed": true
   },
   "outputs": [],
   "source": [
    "P.to_csv('beet_processes.csv')"
   ]
  },
  {
   "cell_type": "markdown",
   "metadata": {},
   "source": [
    "the UUIDs in the index list can be used to identify ecospold XML files to retrieve for further info (including input requirements and exchange values)"
   ]
  }
 ],
 "metadata": {
  "kernelspec": {
   "display_name": "Python 3",
   "language": "python",
   "name": "python3"
  },
  "language_info": {
   "codemirror_mode": {
    "name": "ipython",
    "version": 3
   },
   "file_extension": ".py",
   "mimetype": "text/x-python",
   "name": "python",
   "nbconvert_exporter": "python",
   "pygments_lexer": "ipython3",
   "version": "3.5.1"
  }
 },
 "nbformat": 4,
 "nbformat_minor": 0
}
